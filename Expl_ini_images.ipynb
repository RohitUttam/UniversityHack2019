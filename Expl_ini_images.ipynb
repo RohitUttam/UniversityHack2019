{
 "cells": [
  {
   "cell_type": "markdown",
   "metadata": {},
   "source": [
    "# 1. Import libraries"
   ]
  },
  {
   "cell_type": "code",
   "execution_count": 1,
   "metadata": {},
   "outputs": [],
   "source": [
    "import pandas as pd\n",
    "import numpy as np\n",
    "import seaborn as sns\n",
    "import matplotlib.pyplot as plt\n",
    "import cv2\n",
    "import glob\n",
    "import copy\n",
    "import numpy as np\n",
    "import scipy.misc as scpm\n",
    "%matplotlib inline"
   ]
  },
  {
   "cell_type": "code",
   "execution_count": 2,
   "metadata": {},
   "outputs": [
    {
     "name": "stdout",
     "output_type": "stream",
     "text": [
      "Modelar: (9958, 53) Estimar: (1104, 52)\n"
     ]
    }
   ],
   "source": [
    "modelar = pd.read_csv('data/Modelar_UH2019.txt', sep=\"|\")\n",
    "estimar = pd.read_csv('data/Estimar_UH2019.txt', sep=\"|\")\n",
    "\n",
    "print('Modelar:', modelar.shape, 'Estimar:', estimar.shape)"
   ]
  },
  {
   "cell_type": "code",
   "execution_count": 3,
   "metadata": {},
   "outputs": [
    {
     "data": {
      "text/html": [
       "<div>\n",
       "<style scoped>\n",
       "    .dataframe tbody tr th:only-of-type {\n",
       "        vertical-align: middle;\n",
       "    }\n",
       "\n",
       "    .dataframe tbody tr th {\n",
       "        vertical-align: top;\n",
       "    }\n",
       "\n",
       "    .dataframe thead th {\n",
       "        text-align: right;\n",
       "    }\n",
       "</style>\n",
       "<table border=\"1\" class=\"dataframe\">\n",
       "  <thead>\n",
       "    <tr style=\"text-align: right;\">\n",
       "      <th></th>\n",
       "      <th>HY_id</th>\n",
       "      <th>HY_cod_postal</th>\n",
       "      <th>HY_provincia</th>\n",
       "      <th>HY_descripcion</th>\n",
       "      <th>HY_distribucion</th>\n",
       "      <th>HY_tipo</th>\n",
       "      <th>HY_antiguedad</th>\n",
       "      <th>HY_metros_utiles</th>\n",
       "      <th>HY_metros_totales</th>\n",
       "      <th>HY_num_banos</th>\n",
       "      <th>...</th>\n",
       "      <th>IDEA_unitprice_rent_residential</th>\n",
       "      <th>IDEA_price_rent_residential</th>\n",
       "      <th>IDEA_stock_rent_residential</th>\n",
       "      <th>IDEA_demand_rent_residential</th>\n",
       "      <th>GA_page_views</th>\n",
       "      <th>GA_mean_bounce</th>\n",
       "      <th>GA_exit_rate</th>\n",
       "      <th>GA_quincena_ini</th>\n",
       "      <th>GA_quincena_ult</th>\n",
       "      <th>TARGET</th>\n",
       "    </tr>\n",
       "  </thead>\n",
       "  <tbody>\n",
       "    <tr>\n",
       "      <th>0</th>\n",
       "      <td>6028499</td>\n",
       "      <td>18151</td>\n",
       "      <td>Granada</td>\n",
       "      <td>Plaza de Garaje ubicada en la planta sótano de...</td>\n",
       "      <td>NaN</td>\n",
       "      <td>Garaje</td>\n",
       "      <td>NaN</td>\n",
       "      <td>NaN</td>\n",
       "      <td>35.00</td>\n",
       "      <td>0</td>\n",
       "      <td>...</td>\n",
       "      <td>5.09</td>\n",
       "      <td>626.38</td>\n",
       "      <td>237.0</td>\n",
       "      <td>51.01</td>\n",
       "      <td>71</td>\n",
       "      <td>7.14</td>\n",
       "      <td>10.65</td>\n",
       "      <td>2</td>\n",
       "      <td>46</td>\n",
       "      <td>32.16</td>\n",
       "    </tr>\n",
       "    <tr>\n",
       "      <th>1</th>\n",
       "      <td>6028500</td>\n",
       "      <td>29915</td>\n",
       "      <td>Málaga</td>\n",
       "      <td>NaN</td>\n",
       "      <td>NaN</td>\n",
       "      <td>Casa de pueblo</td>\n",
       "      <td>NaN</td>\n",
       "      <td>NaN</td>\n",
       "      <td>151.98</td>\n",
       "      <td>2</td>\n",
       "      <td>...</td>\n",
       "      <td>4.08</td>\n",
       "      <td>700.00</td>\n",
       "      <td>6.0</td>\n",
       "      <td>50.69</td>\n",
       "      <td>684</td>\n",
       "      <td>16.36</td>\n",
       "      <td>5.25</td>\n",
       "      <td>1</td>\n",
       "      <td>47</td>\n",
       "      <td>30.71</td>\n",
       "    </tr>\n",
       "    <tr>\n",
       "      <th>2</th>\n",
       "      <td>6028502</td>\n",
       "      <td>3740</td>\n",
       "      <td>Alicante</td>\n",
       "      <td>El inmueble(piso) se encuentra situado en el d...</td>\n",
       "      <td>VIVIENDA-PISO</td>\n",
       "      <td>Piso</td>\n",
       "      <td>2008.0</td>\n",
       "      <td>92.58</td>\n",
       "      <td>102.78</td>\n",
       "      <td>1</td>\n",
       "      <td>...</td>\n",
       "      <td>4.43</td>\n",
       "      <td>525.00</td>\n",
       "      <td>15.0</td>\n",
       "      <td>51.82</td>\n",
       "      <td>651</td>\n",
       "      <td>15.12</td>\n",
       "      <td>11.21</td>\n",
       "      <td>1</td>\n",
       "      <td>47</td>\n",
       "      <td>63.48</td>\n",
       "    </tr>\n",
       "    <tr>\n",
       "      <th>3</th>\n",
       "      <td>6028512</td>\n",
       "      <td>30592</td>\n",
       "      <td>Murcia</td>\n",
       "      <td>Plaza de garaje situada en la planta semisótan...</td>\n",
       "      <td>NaN</td>\n",
       "      <td>Garaje</td>\n",
       "      <td>NaN</td>\n",
       "      <td>11.81</td>\n",
       "      <td>12.46</td>\n",
       "      <td>0</td>\n",
       "      <td>...</td>\n",
       "      <td>5.03</td>\n",
       "      <td>863.17</td>\n",
       "      <td>168.0</td>\n",
       "      <td>50.74</td>\n",
       "      <td>92</td>\n",
       "      <td>15.82</td>\n",
       "      <td>14.55</td>\n",
       "      <td>2</td>\n",
       "      <td>47</td>\n",
       "      <td>108.27</td>\n",
       "    </tr>\n",
       "    <tr>\n",
       "      <th>4</th>\n",
       "      <td>6028513</td>\n",
       "      <td>30592</td>\n",
       "      <td>Murcia</td>\n",
       "      <td>Plaza de garaje situada en la planta semisótan...</td>\n",
       "      <td>NaN</td>\n",
       "      <td>Garaje</td>\n",
       "      <td>NaN</td>\n",
       "      <td>14.29</td>\n",
       "      <td>15.43</td>\n",
       "      <td>0</td>\n",
       "      <td>...</td>\n",
       "      <td>5.03</td>\n",
       "      <td>863.17</td>\n",
       "      <td>168.0</td>\n",
       "      <td>50.74</td>\n",
       "      <td>3</td>\n",
       "      <td>0.00</td>\n",
       "      <td>0.00</td>\n",
       "      <td>2</td>\n",
       "      <td>39</td>\n",
       "      <td>7.50</td>\n",
       "    </tr>\n",
       "  </tbody>\n",
       "</table>\n",
       "<p>5 rows × 53 columns</p>\n",
       "</div>"
      ],
      "text/plain": [
       "     HY_id  HY_cod_postal HY_provincia  \\\n",
       "0  6028499          18151      Granada   \n",
       "1  6028500          29915       Málaga   \n",
       "2  6028502           3740     Alicante   \n",
       "3  6028512          30592       Murcia   \n",
       "4  6028513          30592       Murcia   \n",
       "\n",
       "                                      HY_descripcion HY_distribucion  \\\n",
       "0  Plaza de Garaje ubicada en la planta sótano de...             NaN   \n",
       "1                                                NaN             NaN   \n",
       "2  El inmueble(piso) se encuentra situado en el d...   VIVIENDA-PISO   \n",
       "3  Plaza de garaje situada en la planta semisótan...             NaN   \n",
       "4  Plaza de garaje situada en la planta semisótan...             NaN   \n",
       "\n",
       "          HY_tipo  HY_antiguedad  HY_metros_utiles  HY_metros_totales  \\\n",
       "0          Garaje            NaN               NaN              35.00   \n",
       "1  Casa de pueblo            NaN               NaN             151.98   \n",
       "2            Piso         2008.0             92.58             102.78   \n",
       "3          Garaje            NaN             11.81              12.46   \n",
       "4          Garaje            NaN             14.29              15.43   \n",
       "\n",
       "   HY_num_banos   ...   IDEA_unitprice_rent_residential  \\\n",
       "0             0   ...                              5.09   \n",
       "1             2   ...                              4.08   \n",
       "2             1   ...                              4.43   \n",
       "3             0   ...                              5.03   \n",
       "4             0   ...                              5.03   \n",
       "\n",
       "   IDEA_price_rent_residential  IDEA_stock_rent_residential  \\\n",
       "0                       626.38                        237.0   \n",
       "1                       700.00                          6.0   \n",
       "2                       525.00                         15.0   \n",
       "3                       863.17                        168.0   \n",
       "4                       863.17                        168.0   \n",
       "\n",
       "   IDEA_demand_rent_residential  GA_page_views  GA_mean_bounce  GA_exit_rate  \\\n",
       "0                         51.01             71            7.14         10.65   \n",
       "1                         50.69            684           16.36          5.25   \n",
       "2                         51.82            651           15.12         11.21   \n",
       "3                         50.74             92           15.82         14.55   \n",
       "4                         50.74              3            0.00          0.00   \n",
       "\n",
       "   GA_quincena_ini  GA_quincena_ult  TARGET  \n",
       "0                2               46   32.16  \n",
       "1                1               47   30.71  \n",
       "2                1               47   63.48  \n",
       "3                2               47  108.27  \n",
       "4                2               39    7.50  \n",
       "\n",
       "[5 rows x 53 columns]"
      ]
     },
     "execution_count": 3,
     "metadata": {},
     "output_type": "execute_result"
    }
   ],
   "source": [
    "modelar.head()"
   ]
  },
  {
   "cell_type": "markdown",
   "metadata": {},
   "source": [
    "### Bulk image loading functions"
   ]
  },
  {
   "cell_type": "code",
   "execution_count": 4,
   "metadata": {},
   "outputs": [],
   "source": [
    "width, height= 60,60\n",
    "def load_images(filenames):\n",
    "    images =np.asarray([cv2.resize(scpm.imread(file, mode= 'RGB'),(width,height)) for file in filenames])\n",
    "    return images\n",
    "def load_images2(path):\n",
    "    filenames= sorted(glob.glob(path))[0:10]\n",
    "    images =np.asarray([cv2.resize(scpm.imread(file, mode= 'RGB'),(width,height)) for file in filenames])\n",
    "    return images"
   ]
  },
  {
   "cell_type": "code",
   "execution_count": 6,
   "metadata": {},
   "outputs": [],
   "source": [
    "names = sorted(glob.glob('imagenes_inmuebles_haya/*.jpg'))\n"
   ]
  },
  {
   "cell_type": "code",
   "execution_count": 21,
   "metadata": {},
   "outputs": [
    {
     "name": "stderr",
     "output_type": "stream",
     "text": [
      "C:\\Users\\Rohit\\AppData\\Local\\conda\\conda\\envs\\py36\\lib\\site-packages\\ipykernel_launcher.py:5: DeprecationWarning: `imread` is deprecated!\n",
      "`imread` is deprecated in SciPy 1.0.0, and will be removed in 1.2.0.\n",
      "Use ``imageio.imread`` instead.\n",
      "  \"\"\"\n"
     ]
    },
    {
     "data": {
      "text/plain": [
       "<matplotlib.image.AxesImage at 0x128f7b63ba8>"
      ]
     },
     "execution_count": 21,
     "metadata": {},
     "output_type": "execute_result"
    },
    {
     "data": {
      "image/png": "[encoded data removed]",
      "text/plain": [
       "<Figure size 432x288 with 1 Axes>"
      ]
     },
     "metadata": {},
     "output_type": "display_data"
    }
   ],
   "source": [
    "%matplotlib inline\n",
    "images=load_images2('imagenes_inmuebles_haya/*.jpg')\n",
    "images[0].shape\n",
    "plt.imshow(images[8])"
   ]
  },
  {
   "cell_type": "code",
   "execution_count": 19,
   "metadata": {},
   "outputs": [
    {
     "data": {
      "image/png": "[encoded data removed]",
      "text/plain": [
       "<Figure size 432x288 with 1 Axes>"
      ]
     },
     "metadata": {},
     "output_type": "display_data"
    }
   ],
   "source": [
    "import cv2\n",
    "import numpy as np\n",
    "from matplotlib import pyplot as plt\n",
    "\n",
    "color = ('b','g','r')\n",
    "for i,col in enumerate(color):\n",
    "    histr = cv2.calcHist([images[0]],[i],None,[256],[0,256])\n",
    "    plt.plot(histr,color = col)\n",
    "    plt.xlim([0,256])\n",
    "plt.show()"
   ]
  },
  {
   "cell_type": "code",
   "execution_count": 22,
   "metadata": {},
   "outputs": [
    {
     "data": {
      "text/html": [
       "<div>\n",
       "<style scoped>\n",
       "    .dataframe tbody tr th:only-of-type {\n",
       "        vertical-align: middle;\n",
       "    }\n",
       "\n",
       "    .dataframe tbody tr th {\n",
       "        vertical-align: top;\n",
       "    }\n",
       "\n",
       "    .dataframe thead th {\n",
       "        text-align: right;\n",
       "    }\n",
       "</style>\n",
       "<table border=\"1\" class=\"dataframe\">\n",
       "  <thead>\n",
       "    <tr style=\"text-align: right;\">\n",
       "      <th></th>\n",
       "      <th>TARGET</th>\n",
       "    </tr>\n",
       "    <tr>\n",
       "      <th>HY_id</th>\n",
       "      <th></th>\n",
       "    </tr>\n",
       "  </thead>\n",
       "  <tbody>\n",
       "    <tr>\n",
       "      <th>6028499</th>\n",
       "      <td>32.16</td>\n",
       "    </tr>\n",
       "    <tr>\n",
       "      <th>6028499</th>\n",
       "      <td>32.16</td>\n",
       "    </tr>\n",
       "    <tr>\n",
       "      <th>6028499</th>\n",
       "      <td>32.16</td>\n",
       "    </tr>\n",
       "    <tr>\n",
       "      <th>6028499</th>\n",
       "      <td>32.16</td>\n",
       "    </tr>\n",
       "    <tr>\n",
       "      <th>6028499</th>\n",
       "      <td>32.16</td>\n",
       "    </tr>\n",
       "    <tr>\n",
       "      <th>6028500</th>\n",
       "      <td>30.71</td>\n",
       "    </tr>\n",
       "    <tr>\n",
       "      <th>6028500</th>\n",
       "      <td>30.71</td>\n",
       "    </tr>\n",
       "    <tr>\n",
       "      <th>6028500</th>\n",
       "      <td>30.71</td>\n",
       "    </tr>\n",
       "    <tr>\n",
       "      <th>6028502</th>\n",
       "      <td>63.48</td>\n",
       "    </tr>\n",
       "    <tr>\n",
       "      <th>6028502</th>\n",
       "      <td>63.48</td>\n",
       "    </tr>\n",
       "  </tbody>\n",
       "</table>\n",
       "</div>"
      ],
      "text/plain": [
       "         TARGET\n",
       "HY_id          \n",
       "6028499   32.16\n",
       "6028499   32.16\n",
       "6028499   32.16\n",
       "6028499   32.16\n",
       "6028499   32.16\n",
       "6028500   30.71\n",
       "6028500   30.71\n",
       "6028500   30.71\n",
       "6028502   63.48\n",
       "6028502   63.48"
      ]
     },
     "execution_count": 22,
     "metadata": {},
     "output_type": "execute_result"
    }
   ],
   "source": [
    "lista=[]\n",
    "for i in range(len(names)):\n",
    "    lista.append(names[i][24:31])\n",
    "    \n",
    "df= pd.DataFrame(lista,columns=['HY_id'])\n",
    "df['HY_id']=df['HY_id'].astype(int)\n",
    "df=df.set_index('HY_id')\n",
    "\n",
    "df2=modelar[['HY_id','TARGET']]\n",
    "df2=df2.set_index('HY_id')\n",
    "\n",
    "result=pd.merge(df, df2, how='left', on='HY_id')\n",
    "result.head(10)"
   ]
  },
  {
   "cell_type": "code",
   "execution_count": 35,
   "metadata": {},
   "outputs": [
    {
     "name": "stdout",
     "output_type": "stream",
     "text": [
      "Total: 47381 47381\n",
      "\n",
      " For training/test: 37863\n",
      " For predicting: 4745\n",
      " Discarded: 4773\n"
     ]
    },
    {
     "name": "stderr",
     "output_type": "stream",
     "text": [
      "C:\\Users\\Rohit\\AppData\\Local\\conda\\conda\\envs\\py36\\lib\\site-packages\\ipykernel_launcher.py:3: FutureWarning: Method .as_matrix will be removed in a future version. Use .values instead.\n",
      "  This is separate from the ipykernel package so we can avoid doing imports until\n"
     ]
    }
   ],
   "source": [
    "import math \n",
    "\n",
    "y=result['TARGET'].as_matrix()\n",
    "print('Total:',len(y),len(names))\n",
    "\n",
    "predict_X_names=[]\n",
    "tt_X_names=[]\n",
    "tt_Y=[]\n",
    "\n",
    "for i in range(len(y)):\n",
    "    if math.isnan(y[i]):\n",
    "        predict_X_names.append(names[i])\n",
    "    else:\n",
    "        if y[i]<125:\n",
    "            tt_X_names.append(names[i])\n",
    "            tt_Y.append(y[i])\n",
    "print('\\n','For training/test:',len(tt_X_names))\n",
    "print(' For predicting:',len(predict_X_names))\n",
    "print(' Discarded:',len(y)-len(tt_Y)-len(predict_X_names))\n"
   ]
  },
  {
   "cell_type": "code",
   "execution_count": 36,
   "metadata": {},
   "outputs": [
    {
     "name": "stdout",
     "output_type": "stream",
     "text": [
      "4745 37863 37863\n"
     ]
    }
   ],
   "source": [
    "print(len(predict_X_names),len(tt_X_names),len(tt_Y))\n"
   ]
  },
  {
   "cell_type": "code",
   "execution_count": 37,
   "metadata": {},
   "outputs": [
    {
     "name": "stderr",
     "output_type": "stream",
     "text": [
      "C:\\Users\\Rohit\\AppData\\Local\\conda\\conda\\envs\\py36\\lib\\site-packages\\ipykernel_launcher.py:3: DeprecationWarning: `imread` is deprecated!\n",
      "`imread` is deprecated in SciPy 1.0.0, and will be removed in 1.2.0.\n",
      "Use ``imageio.imread`` instead.\n",
      "  This is separate from the ipykernel package so we can avoid doing imports until\n"
     ]
    }
   ],
   "source": [
    "train_X=load_images(tt_X_names)"
   ]
  },
  {
   "cell_type": "code",
   "execution_count": 38,
   "metadata": {},
   "outputs": [],
   "source": [
    "train_Y=tt_Y"
   ]
  },
  {
   "cell_type": "code",
   "execution_count": 55,
   "metadata": {},
   "outputs": [
    {
     "data": {
      "text/plain": [
       "(array([10869.,     0.,     0.,  9659.,     0.,     0.,  8597.,     0.,\n",
       "            0.,  8738.]),\n",
       " array([0. , 0.3, 0.6, 0.9, 1.2, 1.5, 1.8, 2.1, 2.4, 2.7, 3. ]),\n",
       " <a list of 10 Patch objects>)"
      ]
     },
     "execution_count": 55,
     "metadata": {},
     "output_type": "execute_result"
    },
    {
     "data": {
      "image/png": "[encoded data removed]",
      "text/plain": [
       "<Figure size 432x288 with 1 Axes>"
      ]
     },
     "metadata": {},
     "output_type": "display_data"
    }
   ],
   "source": [
    "#categorical Y:\n",
    "\n",
    "trainc_Y=[]\n",
    "for i in tt_Y:\n",
    "    if i<40:\n",
    "        trainc_Y.append(0)\n",
    "    elif i<60:\n",
    "        trainc_Y.append(1)\n",
    "    elif i<80:\n",
    "        trainc_Y.append(2)\n",
    "    else:\n",
    "        trainc_Y.append(3)\n",
    "plt.hist(trainc_Y)\n"
   ]
  },
  {
   "cell_type": "code",
   "execution_count": 68,
   "metadata": {},
   "outputs": [
    {
     "name": "stdout",
     "output_type": "stream",
     "text": [
      "_________________________________________________________________\n",
      "Layer (type)                 Output Shape              Param #   \n",
      "=================================================================\n",
      "conv2d_53 (Conv2D)           (None, 60, 60, 64)        1792      \n",
      "_________________________________________________________________\n",
      "activation_61 (Activation)   (None, 60, 60, 64)        0         \n",
      "_________________________________________________________________\n",
      "batch_normalization_57 (Batc (None, 60, 60, 64)        256       \n",
      "_________________________________________________________________\n",
      "dropout_41 (Dropout)         (None, 60, 60, 64)        0         \n",
      "_________________________________________________________________\n",
      "conv2d_54 (Conv2D)           (None, 60, 60, 64)        36928     \n",
      "_________________________________________________________________\n",
      "activation_62 (Activation)   (None, 60, 60, 64)        0         \n",
      "_________________________________________________________________\n",
      "batch_normalization_58 (Batc (None, 60, 60, 64)        256       \n",
      "_________________________________________________________________\n",
      "max_pooling2d_21 (MaxPooling (None, 30, 30, 64)        0         \n",
      "_________________________________________________________________\n",
      "conv2d_55 (Conv2D)           (None, 30, 30, 128)       73856     \n",
      "_________________________________________________________________\n",
      "activation_63 (Activation)   (None, 30, 30, 128)       0         \n",
      "_________________________________________________________________\n",
      "batch_normalization_59 (Batc (None, 30, 30, 128)       512       \n",
      "_________________________________________________________________\n",
      "dropout_42 (Dropout)         (None, 30, 30, 128)       0         \n",
      "_________________________________________________________________\n",
      "conv2d_56 (Conv2D)           (None, 30, 30, 128)       147584    \n",
      "_________________________________________________________________\n",
      "activation_64 (Activation)   (None, 30, 30, 128)       0         \n",
      "_________________________________________________________________\n",
      "batch_normalization_60 (Batc (None, 30, 30, 128)       512       \n",
      "_________________________________________________________________\n",
      "max_pooling2d_22 (MaxPooling (None, 15, 15, 128)       0         \n",
      "_________________________________________________________________\n",
      "conv2d_57 (Conv2D)           (None, 15, 15, 256)       295168    \n",
      "_________________________________________________________________\n",
      "activation_65 (Activation)   (None, 15, 15, 256)       0         \n",
      "_________________________________________________________________\n",
      "batch_normalization_61 (Batc (None, 15, 15, 256)       1024      \n",
      "_________________________________________________________________\n",
      "dropout_43 (Dropout)         (None, 15, 15, 256)       0         \n",
      "_________________________________________________________________\n",
      "conv2d_58 (Conv2D)           (None, 15, 15, 256)       590080    \n",
      "_________________________________________________________________\n",
      "activation_66 (Activation)   (None, 15, 15, 256)       0         \n",
      "_________________________________________________________________\n",
      "batch_normalization_62 (Batc (None, 15, 15, 256)       1024      \n",
      "_________________________________________________________________\n",
      "dropout_44 (Dropout)         (None, 15, 15, 256)       0         \n",
      "_________________________________________________________________\n",
      "conv2d_59 (Conv2D)           (None, 15, 15, 256)       590080    \n",
      "_________________________________________________________________\n",
      "activation_67 (Activation)   (None, 15, 15, 256)       0         \n",
      "_________________________________________________________________\n",
      "batch_normalization_63 (Batc (None, 15, 15, 256)       1024      \n",
      "_________________________________________________________________\n",
      "max_pooling2d_23 (MaxPooling (None, 7, 7, 256)         0         \n",
      "_________________________________________________________________\n",
      "conv2d_60 (Conv2D)           (None, 7, 7, 512)         1180160   \n",
      "_________________________________________________________________\n",
      "activation_68 (Activation)   (None, 7, 7, 512)         0         \n",
      "_________________________________________________________________\n",
      "batch_normalization_64 (Batc (None, 7, 7, 512)         2048      \n",
      "_________________________________________________________________\n",
      "dropout_45 (Dropout)         (None, 7, 7, 512)         0         \n",
      "_________________________________________________________________\n",
      "conv2d_61 (Conv2D)           (None, 7, 7, 512)         2359808   \n",
      "_________________________________________________________________\n",
      "activation_69 (Activation)   (None, 7, 7, 512)         0         \n",
      "_________________________________________________________________\n",
      "batch_normalization_65 (Batc (None, 7, 7, 512)         2048      \n",
      "_________________________________________________________________\n",
      "dropout_46 (Dropout)         (None, 7, 7, 512)         0         \n",
      "_________________________________________________________________\n",
      "conv2d_62 (Conv2D)           (None, 7, 7, 512)         2359808   \n",
      "_________________________________________________________________\n",
      "activation_70 (Activation)   (None, 7, 7, 512)         0         \n",
      "_________________________________________________________________\n",
      "batch_normalization_66 (Batc (None, 7, 7, 512)         2048      \n",
      "_________________________________________________________________\n",
      "max_pooling2d_24 (MaxPooling (None, 3, 3, 512)         0         \n",
      "_________________________________________________________________\n",
      "conv2d_63 (Conv2D)           (None, 3, 3, 512)         2359808   \n",
      "_________________________________________________________________\n",
      "activation_71 (Activation)   (None, 3, 3, 512)         0         \n",
      "_________________________________________________________________\n",
      "batch_normalization_67 (Batc (None, 3, 3, 512)         2048      \n",
      "_________________________________________________________________\n",
      "dropout_47 (Dropout)         (None, 3, 3, 512)         0         \n",
      "_________________________________________________________________\n",
      "conv2d_64 (Conv2D)           (None, 3, 3, 512)         2359808   \n",
      "_________________________________________________________________\n",
      "activation_72 (Activation)   (None, 3, 3, 512)         0         \n",
      "_________________________________________________________________\n",
      "batch_normalization_68 (Batc (None, 3, 3, 512)         2048      \n",
      "_________________________________________________________________\n",
      "dropout_48 (Dropout)         (None, 3, 3, 512)         0         \n",
      "_________________________________________________________________\n",
      "conv2d_65 (Conv2D)           (None, 3, 3, 512)         2359808   \n",
      "_________________________________________________________________\n",
      "activation_73 (Activation)   (None, 3, 3, 512)         0         \n",
      "_________________________________________________________________\n",
      "batch_normalization_69 (Batc (None, 3, 3, 512)         2048      \n",
      "_________________________________________________________________\n",
      "max_pooling2d_25 (MaxPooling (None, 1, 1, 512)         0         \n",
      "_________________________________________________________________\n",
      "dropout_49 (Dropout)         (None, 1, 1, 512)         0         \n",
      "_________________________________________________________________\n",
      "flatten_5 (Flatten)          (None, 512)               0         \n",
      "_________________________________________________________________\n",
      "dense_9 (Dense)              (None, 512)               262656    \n",
      "_________________________________________________________________\n",
      "activation_74 (Activation)   (None, 512)               0         \n",
      "_________________________________________________________________\n",
      "batch_normalization_70 (Batc (None, 512)               2048      \n",
      "_________________________________________________________________\n",
      "dropout_50 (Dropout)         (None, 512)               0         \n",
      "_________________________________________________________________\n",
      "dense_10 (Dense)             (None, 4)                 2052      \n",
      "_________________________________________________________________\n",
      "activation_75 (Activation)   (None, 4)                 0         \n",
      "=================================================================\n",
      "Total params: 14,998,340\n",
      "Trainable params: 14,988,868\n",
      "Non-trainable params: 9,472\n",
      "_________________________________________________________________\n"
     ]
    }
   ],
   "source": [
    "from __future__ import print_function\n",
    "import keras\n",
    "from keras.datasets import cifar10\n",
    "from keras.preprocessing.image import ImageDataGenerator\n",
    "from keras.models import Sequential\n",
    "from keras.layers import Dense, Dropout, Activation, Flatten\n",
    "from keras.layers import Conv2D, MaxPooling2D, BatchNormalization\n",
    "from keras import optimizers\n",
    "import numpy as np\n",
    "from keras.layers.core import Lambda\n",
    "from keras import backend as K\n",
    "from keras import regularizers\n",
    "from keras.optimizers import SGD\n",
    "from keras.callbacks import EarlyStopping, ModelCheckpoint\n",
    "\n",
    "batch_size    = 128\n",
    "epochs        = 100\n",
    "iterations    = 391\n",
    "num_classes   = 4\n",
    "dropout       = 0.5\n",
    "weight_decay  = 0.0001\n",
    "\n",
    "\n",
    "from keras import backend as K\n",
    "if('tensorflow' == K.backend()):\n",
    "    import tensorflow as tf\n",
    "    from keras.backend.tensorflow_backend import set_session\n",
    "    config = tf.ConfigProto()\n",
    "    config.gpu_options.allow_growth = True\n",
    "    sess = tf.Session(config=config)\n",
    "\n",
    "\n",
    "weight_decay  = 0.0001\n",
    "\n",
    "model = Sequential()\n",
    "\n",
    "model.add(Conv2D(64, (3, 3), padding='same',input_shape=(60,60,3),kernel_regularizer=regularizers.l2(weight_decay)))\n",
    "model.add(Activation('relu'))\n",
    "model.add(BatchNormalization())\n",
    "model.add(Dropout(0.3))\n",
    "\n",
    "model.add(Conv2D(64, (3, 3), padding='same',kernel_regularizer=regularizers.l2(weight_decay)))\n",
    "model.add(Activation('relu'))\n",
    "model.add(BatchNormalization())\n",
    "\n",
    "model.add(MaxPooling2D(pool_size=(2, 2)))\n",
    "\n",
    "model.add(Conv2D(128, (3, 3), padding='same',kernel_regularizer=regularizers.l2(weight_decay)))\n",
    "model.add(Activation('relu'))\n",
    "model.add(BatchNormalization())\n",
    "model.add(Dropout(0.4))\n",
    "\n",
    "model.add(Conv2D(128, (3, 3), padding='same',kernel_regularizer=regularizers.l2(weight_decay)))\n",
    "model.add(Activation('relu'))\n",
    "model.add(BatchNormalization())\n",
    "\n",
    "model.add(MaxPooling2D(pool_size=(2, 2)))\n",
    "\n",
    "model.add(Conv2D(256, (3, 3), padding='same',kernel_regularizer=regularizers.l2(weight_decay)))\n",
    "model.add(Activation('relu'))\n",
    "model.add(BatchNormalization())\n",
    "model.add(Dropout(0.4))\n",
    "\n",
    "model.add(Conv2D(256, (3, 3), padding='same',kernel_regularizer=regularizers.l2(weight_decay)))\n",
    "model.add(Activation('relu'))\n",
    "model.add(BatchNormalization())\n",
    "model.add(Dropout(0.4))\n",
    "\n",
    "model.add(Conv2D(256, (3, 3), padding='same',kernel_regularizer=regularizers.l2(weight_decay)))\n",
    "model.add(Activation('relu'))\n",
    "model.add(BatchNormalization())\n",
    "\n",
    "model.add(MaxPooling2D(pool_size=(2, 2)))\n",
    "\n",
    "\n",
    "model.add(Conv2D(512, (3, 3), padding='same',kernel_regularizer=regularizers.l2(weight_decay)))\n",
    "model.add(Activation('relu'))\n",
    "model.add(BatchNormalization())\n",
    "model.add(Dropout(0.4))\n",
    "\n",
    "model.add(Conv2D(512, (3, 3), padding='same',kernel_regularizer=regularizers.l2(weight_decay)))\n",
    "model.add(Activation('relu'))\n",
    "model.add(BatchNormalization())\n",
    "model.add(Dropout(0.4))\n",
    "\n",
    "model.add(Conv2D(512, (3, 3), padding='same',kernel_regularizer=regularizers.l2(weight_decay)))\n",
    "model.add(Activation('relu'))\n",
    "model.add(BatchNormalization())\n",
    "\n",
    "model.add(MaxPooling2D(pool_size=(2, 2)))\n",
    "\n",
    "\n",
    "model.add(Conv2D(512, (3, 3), padding='same',kernel_regularizer=regularizers.l2(weight_decay)))\n",
    "model.add(Activation('relu'))\n",
    "model.add(BatchNormalization())\n",
    "model.add(Dropout(0.4))\n",
    "\n",
    "model.add(Conv2D(512, (3, 3), padding='same',kernel_regularizer=regularizers.l2(weight_decay)))\n",
    "model.add(Activation('relu'))\n",
    "model.add(BatchNormalization())\n",
    "model.add(Dropout(0.4))\n",
    "\n",
    "model.add(Conv2D(512, (3, 3), padding='same',kernel_regularizer=regularizers.l2(weight_decay)))\n",
    "model.add(Activation('relu'))\n",
    "model.add(BatchNormalization())\n",
    "\n",
    "model.add(MaxPooling2D(pool_size=(2, 2)))\n",
    "model.add(Dropout(0.5))\n",
    "\n",
    "model.add(Flatten())\n",
    "model.add(Dense(512,kernel_regularizer=regularizers.l2(weight_decay)))\n",
    "model.add(Activation('relu'))\n",
    "model.add(BatchNormalization())\n",
    "\n",
    "model.add(Dropout(0.5))\n",
    "model.add(Dense(num_classes))\n",
    "model.add(Activation('softmax'))\n",
    "\n",
    "model.load_weights('cifar10vgg.h5',by_name=True)\n",
    "\n",
    "sgd = SGD(lr=0.1, decay=1e-6, momentum=0.9, nesterov=True)\n",
    "model.compile(optimizer=sgd, loss='mean_squared_error',metrics=['accuracy'])\n",
    "\n",
    "model.summary()"
   ]
  },
  {
   "cell_type": "code",
   "execution_count": 70,
   "metadata": {},
   "outputs": [],
   "source": [
    "def train(nnmodel, batch, epochs, train_XY, validation_XY, test_XY):\n",
    "    \n",
    "    start = time.time()\n",
    "    history = nnmodel.fit(train_XY[0], train_XY[1], batch_size=batch, epochs=epochs, verbose=1, validation_data=validation_XY)\n",
    "    end = time.time()\n",
    "\n",
    "    loss, acc = nnmodel.evaluate(test_XY[0], test_XY[1], verbose=0)\n",
    "    print('Test loss:', loss)\n",
    "    print('Test accuracy:', acc)\n",
    "\n",
    "    plot_model_history(history)\n",
    "    print(\"Training MLP took \" + str(end - start) + \" seconds\")\n",
    "\n",
    "    \n",
    "def plot_model_history(model_history):\n",
    "    fig, axs = plt.subplots(1,2,figsize=(15,5))\n",
    "    # Summarize history for accuracy\n",
    "    axs[0].plot(range(1,len(model_history.history['acc'])+1),model_history.history['acc'])\n",
    "    axs[0].plot(range(1,len(model_history.history['val_acc'])+1),model_history.history['val_acc'])\n",
    "    axs[0].set_title('Model Accuracy')\n",
    "    axs[0].set_ylabel('Accuracy')\n",
    "    axs[0].set_xlabel('Epoch')\n",
    "    axs[0].set_xticks(np.arange(1,len(model_history.history['acc'])+1),len(model_history.history['acc'])/10)\n",
    "    axs[0].legend(['train', 'val'], loc='best')\n",
    "    # summarize history for loss\n",
    "    axs[1].plot(range(1,len(model_history.history['loss'])+1),model_history.history['loss'])\n",
    "    axs[1].plot(range(1,len(model_history.history['val_loss'])+1),model_history.history['val_loss'])\n",
    "    axs[1].set_title('Model Loss')\n",
    "    axs[1].set_ylabel('Loss')\n",
    "    axs[1].set_xlabel('Epoch')\n",
    "    axs[1].set_xticks(np.arange(1,len(model_history.history['loss'])+1),len(model_history.history['loss'])/10)\n",
    "    axs[1].legend(['train', 'val'], loc='best')\n",
    "    plt.show()"
   ]
  },
  {
   "cell_type": "code",
   "execution_count": 63,
   "metadata": {},
   "outputs": [
    {
     "name": "stderr",
     "output_type": "stream",
     "text": [
      "C:\\Users\\Rohit\\AppData\\Local\\conda\\conda\\envs\\py36\\lib\\site-packages\\sklearn\\model_selection\\_split.py:2026: FutureWarning: From version 0.21, test_size will always complement train_size unless both are specified.\n",
      "  FutureWarning)\n"
     ]
    }
   ],
   "source": [
    "from sklearn.model_selection import train_test_split\n",
    "\n",
    "t_X, val_X, t_y, val_y = train_test_split(train_X,train_Y,train_size=0.70, random_state=0)"
   ]
  },
  {
   "cell_type": "code",
   "execution_count": 64,
   "metadata": {},
   "outputs": [
    {
     "name": "stderr",
     "output_type": "stream",
     "text": [
      "C:\\Users\\Rohit\\AppData\\Local\\conda\\conda\\envs\\py36\\lib\\site-packages\\sklearn\\model_selection\\_split.py:2026: FutureWarning: From version 0.21, test_size will always complement train_size unless both are specified.\n",
      "  FutureWarning)\n"
     ]
    }
   ],
   "source": [
    "\n",
    "'''\n",
    "####################\n",
    "For Categorical CNN:\n",
    "#####################\n",
    "'''\n",
    "\n",
    "from sklearn.model_selection import train_test_split\n",
    "\n",
    "t_X, val_X, t_y, val_y = train_test_split(train_X,trainc_Y,train_size=0.70, random_state=0)"
   ]
  },
  {
   "cell_type": "code",
   "execution_count": 65,
   "metadata": {},
   "outputs": [],
   "source": [
    "num_classes=4\n",
    "# Data preprocessing 1\n",
    "X_train = t_X.astype('float32')\n",
    "X_test = val_X.astype('float32')\n",
    "X_train /= 255.0\n",
    "X_test /= 255.0\n",
    "\n",
    "from keras.utils import np_utils\n",
    "Y_train = np_utils.to_categorical(np.asarray(t_y), num_classes)\n",
    "Y_test = np_utils.to_categorical(np.asarray(val_y), num_classes)"
   ]
  },
  {
   "cell_type": "code",
   "execution_count": 69,
   "metadata": {},
   "outputs": [
    {
     "name": "stdout",
     "output_type": "stream",
     "text": [
      "Train on 26504 samples, validate on 11359 samples\n",
      "Epoch 1/20\n",
      "26504/26504 [==============================] - 123s 5ms/step - loss: 0.7500 - acc: 0.2606 - val_loss: 0.7160 - val_acc: 0.2577\n",
      "Epoch 2/20\n",
      "26504/26504 [==============================] - 116s 4ms/step - loss: 0.6929 - acc: 0.2626 - val_loss: 0.6620 - val_acc: 0.2430\n",
      "Epoch 3/20\n",
      "26504/26504 [==============================] - 116s 4ms/step - loss: 0.6421 - acc: 0.2677 - val_loss: 0.6121 - val_acc: 0.2520\n",
      "Epoch 4/20\n",
      "26504/26504 [==============================] - 116s 4ms/step - loss: 0.5950 - acc: 0.2748 - val_loss: 0.5855 - val_acc: 0.2744\n",
      "Epoch 5/20\n",
      "26504/26504 [==============================] - 222s 8ms/step - loss: 0.5552 - acc: 0.2814 - val_loss: 0.5499 - val_acc: 0.2866\n",
      "Epoch 6/20\n",
      "26504/26504 [==============================] - 167s 6ms/step - loss: 0.5179 - acc: 0.2895 - val_loss: 0.5638 - val_acc: 0.2843\n",
      "Epoch 7/20\n",
      "26504/26504 [==============================] - 160s 6ms/step - loss: 0.4903 - acc: 0.2760 - val_loss: 0.5020 - val_acc: 0.2844\n",
      "Epoch 8/20\n",
      "26504/26504 [==============================] - 160s 6ms/step - loss: 0.4599 - acc: 0.2863 - val_loss: 0.4546 - val_acc: 0.2753\n",
      "Epoch 9/20\n",
      "26504/26504 [==============================] - 160s 6ms/step - loss: 0.4532 - acc: 0.2667 - val_loss: 0.4332 - val_acc: 0.2923\n",
      "Epoch 10/20\n",
      "26504/26504 [==============================] - 1206s 46ms/step - loss: 0.4271 - acc: 0.2765 - val_loss: 0.4164 - val_acc: 0.2729\n",
      "Epoch 11/20\n",
      "26504/26504 [==============================] - 162s 6ms/step - loss: 0.4079 - acc: 0.2687 - val_loss: 0.4373 - val_acc: 0.2864\n",
      "Epoch 12/20\n",
      "26504/26504 [==============================] - 161s 6ms/step - loss: 0.4058 - acc: 0.2731 - val_loss: 0.4134 - val_acc: 0.2648\n",
      "Epoch 13/20\n",
      "26504/26504 [==============================] - 161s 6ms/step - loss: 0.4037 - acc: 0.2686 - val_loss: 0.3874 - val_acc: 0.2881\n",
      "Epoch 14/20\n",
      "26504/26504 [==============================] - 193s 7ms/step - loss: 0.3851 - acc: 0.2835 - val_loss: 0.3707 - val_acc: 0.2893\n",
      "Epoch 15/20\n",
      "26504/26504 [==============================] - 165s 6ms/step - loss: 0.3666 - acc: 0.2766 - val_loss: 0.3537 - val_acc: 0.2843\n",
      "Epoch 16/20\n",
      "26504/26504 [==============================] - 162s 6ms/step - loss: 0.3512 - acc: 0.2823 - val_loss: 0.3414 - val_acc: 0.2874\n",
      "Epoch 17/20\n",
      "26504/26504 [==============================] - 163s 6ms/step - loss: 0.3377 - acc: 0.2773 - val_loss: 0.3487 - val_acc: 0.2907\n",
      "Epoch 18/20\n",
      "26504/26504 [==============================] - 231s 9ms/step - loss: 0.4142 - acc: 0.2743 - val_loss: 0.4026 - val_acc: 0.2881\n",
      "Epoch 19/20\n",
      "26504/26504 [==============================] - 165s 6ms/step - loss: 0.3976 - acc: 0.2713 - val_loss: 0.3855 - val_acc: 0.2339\n",
      "Epoch 20/20\n",
      "26504/26504 [==============================] - 163s 6ms/step - loss: 0.3782 - acc: 0.2771 - val_loss: 0.3683 - val_acc: 0.2859\n",
      "Test loss: 0.3682973192830417\n",
      "Test accuracy: 0.28585262784331145\n"
     ]
    },
    {
     "ename": "NameError",
     "evalue": "name 'plot_model_history' is not defined",
     "output_type": "error",
     "traceback": [
      "\u001b[1;31m---------------------------------------------------------------------------\u001b[0m",
      "\u001b[1;31mNameError\u001b[0m                                 Traceback (most recent call last)",
      "\u001b[1;32m<ipython-input-69-cd9b9777e6d1>\u001b[0m in \u001b[0;36m<module>\u001b[1;34m()\u001b[0m\n\u001b[0;32m      1\u001b[0m \u001b[1;32mimport\u001b[0m \u001b[0mtime\u001b[0m\u001b[1;33m\u001b[0m\u001b[0m\n\u001b[1;32m----> 2\u001b[1;33m \u001b[0mtrain\u001b[0m\u001b[1;33m(\u001b[0m\u001b[0mmodel\u001b[0m\u001b[1;33m,\u001b[0m\u001b[1;36m100\u001b[0m\u001b[1;33m,\u001b[0m\u001b[1;36m20\u001b[0m\u001b[1;33m,\u001b[0m\u001b[1;33m(\u001b[0m\u001b[0mX_train\u001b[0m\u001b[1;33m,\u001b[0m\u001b[0mY_train\u001b[0m\u001b[1;33m)\u001b[0m\u001b[1;33m,\u001b[0m\u001b[1;33m(\u001b[0m\u001b[0mX_test\u001b[0m\u001b[1;33m,\u001b[0m\u001b[0mY_test\u001b[0m\u001b[1;33m)\u001b[0m\u001b[1;33m,\u001b[0m\u001b[1;33m(\u001b[0m\u001b[0mX_test\u001b[0m\u001b[1;33m,\u001b[0m\u001b[0mY_test\u001b[0m\u001b[1;33m)\u001b[0m\u001b[1;33m)\u001b[0m\u001b[1;33m\u001b[0m\u001b[0m\n\u001b[0m",
      "\u001b[1;32m<ipython-input-28-cb1690fc59d9>\u001b[0m in \u001b[0;36mtrain\u001b[1;34m(nnmodel, batch, epochs, train_XY, validation_XY, test_XY)\u001b[0m\n\u001b[0;32m      9\u001b[0m     \u001b[0mprint\u001b[0m\u001b[1;33m(\u001b[0m\u001b[1;34m'Test accuracy:'\u001b[0m\u001b[1;33m,\u001b[0m \u001b[0macc\u001b[0m\u001b[1;33m)\u001b[0m\u001b[1;33m\u001b[0m\u001b[0m\n\u001b[0;32m     10\u001b[0m \u001b[1;33m\u001b[0m\u001b[0m\n\u001b[1;32m---> 11\u001b[1;33m     \u001b[0mplot_model_history\u001b[0m\u001b[1;33m(\u001b[0m\u001b[0mhistory\u001b[0m\u001b[1;33m)\u001b[0m\u001b[1;33m\u001b[0m\u001b[0m\n\u001b[0m\u001b[0;32m     12\u001b[0m     \u001b[0mprint\u001b[0m\u001b[1;33m(\u001b[0m\u001b[1;34m\"Training MLP took \"\u001b[0m \u001b[1;33m+\u001b[0m \u001b[0mstr\u001b[0m\u001b[1;33m(\u001b[0m\u001b[0mend\u001b[0m \u001b[1;33m-\u001b[0m \u001b[0mstart\u001b[0m\u001b[1;33m)\u001b[0m \u001b[1;33m+\u001b[0m \u001b[1;34m\" seconds\"\u001b[0m\u001b[1;33m)\u001b[0m\u001b[1;33m\u001b[0m\u001b[0m\n",
      "\u001b[1;31mNameError\u001b[0m: name 'plot_model_history' is not defined"
     ]
    }
   ],
   "source": [
    "import time\n",
    "train(model,100,20,(X_train,Y_train),(X_test,Y_test),(X_test,Y_test))"
   ]
  },
  {
   "cell_type": "code",
   "execution_count": 71,
   "metadata": {},
   "outputs": [
    {
     "name": "stdout",
     "output_type": "stream",
     "text": [
      "Train on 26504 samples, validate on 11359 samples\n",
      "Epoch 1/20\n",
      "26504/26504 [==============================] - 128s 5ms/step - loss: 0.3605 - acc: 0.2792 - val_loss: 0.3519 - val_acc: 0.2763\n",
      "Epoch 2/20\n",
      "26504/26504 [==============================] - 117s 4ms/step - loss: 0.3449 - acc: 0.2805 - val_loss: 0.3327 - val_acc: 0.2993\n",
      "Epoch 3/20\n",
      "26504/26504 [==============================] - 120s 5ms/step - loss: 0.3307 - acc: 0.2808 - val_loss: 0.3199 - val_acc: 0.3006\n",
      "Epoch 4/20\n",
      "26504/26504 [==============================] - 122s 5ms/step - loss: 0.3171 - acc: 0.2863 - val_loss: 0.3108 - val_acc: 0.2541\n",
      "Epoch 5/20\n",
      "26504/26504 [==============================] - 124s 5ms/step - loss: 0.3130 - acc: 0.2678 - val_loss: 0.3042 - val_acc: 0.2866\n",
      "Epoch 6/20\n",
      "26504/26504 [==============================] - 125s 5ms/step - loss: 0.3021 - acc: 0.2761 - val_loss: 0.2935 - val_acc: 0.2928\n",
      "Epoch 7/20\n",
      "26504/26504 [==============================] - 125s 5ms/step - loss: 0.2919 - acc: 0.2786 - val_loss: 0.2837 - val_acc: 0.2930\n",
      "Epoch 8/20\n",
      "26504/26504 [==============================] - 125s 5ms/step - loss: 0.2832 - acc: 0.2832 - val_loss: 0.2751 - val_acc: 0.2878\n",
      "Epoch 9/20\n",
      "26504/26504 [==============================] - 125s 5ms/step - loss: 0.2754 - acc: 0.2921 - val_loss: 0.2705 - val_acc: 0.2880\n",
      "Epoch 10/20\n",
      "26504/26504 [==============================] - 126s 5ms/step - loss: 0.2892 - acc: 0.2699 - val_loss: 0.2803 - val_acc: 0.2842\n",
      "Epoch 11/20\n",
      "26504/26504 [==============================] - 125s 5ms/step - loss: 0.2792 - acc: 0.2755 - val_loss: 0.2731 - val_acc: 0.2867\n",
      "Epoch 12/20\n",
      "26504/26504 [==============================] - 125s 5ms/step - loss: 0.2728 - acc: 0.2840 - val_loss: 0.2663 - val_acc: 0.2898\n",
      "Epoch 13/20\n",
      "26504/26504 [==============================] - 125s 5ms/step - loss: 0.2650 - acc: 0.2859 - val_loss: 0.2597 - val_acc: 0.2862\n",
      "Epoch 14/20\n",
      "26504/26504 [==============================] - 125s 5ms/step - loss: 0.2611 - acc: 0.2737 - val_loss: 0.2569 - val_acc: 0.2862\n",
      "Epoch 15/20\n",
      "26504/26504 [==============================] - 125s 5ms/step - loss: 0.2635 - acc: 0.2687 - val_loss: 0.2600 - val_acc: 0.2502\n",
      "Epoch 16/20\n",
      "26504/26504 [==============================] - 125s 5ms/step - loss: 0.2592 - acc: 0.2771 - val_loss: 0.2672 - val_acc: 0.2646\n",
      "Epoch 17/20\n",
      "26504/26504 [==============================] - 125s 5ms/step - loss: 0.2696 - acc: 0.2665 - val_loss: 0.2625 - val_acc: 0.2563\n",
      "Epoch 18/20\n",
      "26504/26504 [==============================] - 125s 5ms/step - loss: 0.2637 - acc: 0.2706 - val_loss: 0.2571 - val_acc: 0.2736\n",
      "Epoch 19/20\n",
      "26504/26504 [==============================] - 125s 5ms/step - loss: 0.2575 - acc: 0.2699 - val_loss: 0.2554 - val_acc: 0.2663\n",
      "Epoch 20/20\n",
      "26504/26504 [==============================] - 124s 5ms/step - loss: 0.2636 - acc: 0.2724 - val_loss: 0.2711 - val_acc: 0.2654\n",
      "Test loss: 0.2711084895265576\n",
      "Test accuracy: 0.26542829471801893\n"
     ]
    },
    {
     "data": {
      "image/png": "[encoded data removed]",
      "text/plain": [
       "<Figure size 1080x360 with 2 Axes>"
      ]
     },
     "metadata": {},
     "output_type": "display_data"
    },
    {
     "name": "stdout",
     "output_type": "stream",
     "text": [
      "Training MLP took 2485.7858035564423 seconds\n"
     ]
    }
   ],
   "source": [
    "train(model,100,20,(X_train,Y_train),(X_test,Y_test),(X_test,Y_test))"
   ]
  },
  {
   "cell_type": "code",
   "execution_count": 78,
   "metadata": {},
   "outputs": [
    {
     "data": {
      "text/plain": [
       "<matplotlib.image.AxesImage at 0x128daa55208>"
      ]
     },
     "execution_count": 78,
     "metadata": {},
     "output_type": "execute_result"
    },
    {
     "data": {
      "image/png": "[encoded data removed]",
      "text/plain": [
       "<Figure size 432x288 with 1 Axes>"
      ]
     },
     "metadata": {},
     "output_type": "display_data"
    }
   ],
   "source": [
    "plt.imshow(train_X[0])"
   ]
  },
  {
   "cell_type": "code",
   "execution_count": 85,
   "metadata": {},
   "outputs": [
    {
     "name": "stdout",
     "output_type": "stream",
     "text": [
      "None\n"
     ]
    }
   ],
   "source": [
    "import cv2\n",
    "\n",
    "gray = cv2.cvtColor(train_X[0],cv2.COLOR_BGR2GRAY)\n",
    "edges = cv2.Canny(gray,50,150,apertureSize = 3)\n",
    "\n",
    "minLineLength = 100\n",
    "maxLineGap = 10\n",
    "lines = cv2.HoughLinesP(edges,1,np.pi/180,100,minLineLength,maxLineGap)\n",
    "   "
   ]
  },
  {
   "cell_type": "code",
   "execution_count": 106,
   "metadata": {},
   "outputs": [],
   "source": [
    "train_X_edge=train_X[:,:,:,0]\n",
    "for i in range(len(train_X)):\n",
    "    gray = cv2.cvtColor(train_X[i],cv2.COLOR_BGR2GRAY)\n",
    "    edges = cv2.Canny(gray,50,150,apertureSize = 3)\n",
    "    train_X_edge[i]=edges\n",
    "    "
   ]
  },
  {
   "cell_type": "code",
   "execution_count": 108,
   "metadata": {},
   "outputs": [
    {
     "data": {
      "text/plain": [
       "<matplotlib.image.AxesImage at 0x128da8897b8>"
      ]
     },
     "execution_count": 108,
     "metadata": {},
     "output_type": "execute_result"
    },
    {
     "data": {
      "image/png": "[encoded data removed]",
      "text/plain": [
       "<Figure size 432x288 with 1 Axes>"
      ]
     },
     "metadata": {},
     "output_type": "display_data"
    }
   ],
   "source": [
    "plt.imshow(train_X[80])"
   ]
  },
  {
   "cell_type": "code",
   "execution_count": 107,
   "metadata": {},
   "outputs": [
    {
     "data": {
      "text/plain": [
       "<matplotlib.image.AxesImage at 0x128da8f2358>"
      ]
     },
     "execution_count": 107,
     "metadata": {},
     "output_type": "execute_result"
    },
    {
     "data": {
      "image/png": "[encoded data removed]",
      "text/plain": [
       "<Figure size 432x288 with 1 Axes>"
      ]
     },
     "metadata": {},
     "output_type": "display_data"
    }
   ],
   "source": [
    "plt.imshow(train_X_edge[80])"
   ]
  },
  {
   "cell_type": "code",
   "execution_count": null,
   "metadata": {},
   "outputs": [],
   "source": []
  }
 ],
 "metadata": {
  "kernelspec": {
   "display_name": "Python 3",
   "language": "python",
   "name": "python3"
  },
  "language_info": {
   "codemirror_mode": {
    "name": "ipython",
    "version": 3
   },
   "file_extension": ".py",
   "mimetype": "text/x-python",
   "name": "python",
   "nbconvert_exporter": "python",
   "pygments_lexer": "ipython3",
   "version": "3.6.5"
  }
 },
 "nbformat": 4,
 "nbformat_minor": 2
}
