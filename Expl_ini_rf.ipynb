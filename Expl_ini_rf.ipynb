{
 "cells": [
  {
   "cell_type": "markdown",
   "metadata": {},
   "source": [
    "# 1. Import libraries"
   ]
  },
  {
   "cell_type": "code",
   "execution_count": 1,
   "metadata": {},
   "outputs": [],
   "source": [
    "import pandas as pd\n",
    "import numpy as np\n",
    "import seaborn as sns\n",
    "import matplotlib.pyplot as plt\n",
    "%matplotlib inline"
   ]
  },
  {
   "cell_type": "code",
   "execution_count": 2,
   "metadata": {},
   "outputs": [
    {
     "name": "stdout",
     "output_type": "stream",
     "text": [
      "Modelar: (9958, 53) Estimar: (1104, 52)\n"
     ]
    }
   ],
   "source": [
    "modelar = pd.read_csv('Modelar_UH2019.txt', sep=\"|\")\n",
    "estimar = pd.read_csv('Estimar_UH2019.txt', sep=\"|\")\n",
    "\n",
    "print('Modelar:', modelar.shape, 'Estimar:', estimar.shape)"
   ]
  },
  {
   "cell_type": "code",
   "execution_count": 3,
   "metadata": {},
   "outputs": [
    {
     "data": {
      "text/html": [
       "<div>\n",
       "<style scoped>\n",
       "    .dataframe tbody tr th:only-of-type {\n",
       "        vertical-align: middle;\n",
       "    }\n",
       "\n",
       "    .dataframe tbody tr th {\n",
       "        vertical-align: top;\n",
       "    }\n",
       "\n",
       "    .dataframe thead th {\n",
       "        text-align: right;\n",
       "    }\n",
       "</style>\n",
       "<table border=\"1\" class=\"dataframe\">\n",
       "  <thead>\n",
       "    <tr style=\"text-align: right;\">\n",
       "      <th></th>\n",
       "      <th>HY_id</th>\n",
       "      <th>HY_cod_postal</th>\n",
       "      <th>HY_provincia</th>\n",
       "      <th>HY_descripcion</th>\n",
       "      <th>HY_distribucion</th>\n",
       "      <th>HY_tipo</th>\n",
       "      <th>HY_antiguedad</th>\n",
       "      <th>HY_metros_utiles</th>\n",
       "      <th>HY_metros_totales</th>\n",
       "      <th>HY_num_banos</th>\n",
       "      <th>...</th>\n",
       "      <th>IDEA_unitprice_rent_residential</th>\n",
       "      <th>IDEA_price_rent_residential</th>\n",
       "      <th>IDEA_stock_rent_residential</th>\n",
       "      <th>IDEA_demand_rent_residential</th>\n",
       "      <th>GA_page_views</th>\n",
       "      <th>GA_mean_bounce</th>\n",
       "      <th>GA_exit_rate</th>\n",
       "      <th>GA_quincena_ini</th>\n",
       "      <th>GA_quincena_ult</th>\n",
       "      <th>TARGET</th>\n",
       "    </tr>\n",
       "  </thead>\n",
       "  <tbody>\n",
       "    <tr>\n",
       "      <th>0</th>\n",
       "      <td>6028499</td>\n",
       "      <td>18151</td>\n",
       "      <td>Granada</td>\n",
       "      <td>Plaza de Garaje ubicada en la planta sótano de...</td>\n",
       "      <td>NaN</td>\n",
       "      <td>Garaje</td>\n",
       "      <td>NaN</td>\n",
       "      <td>NaN</td>\n",
       "      <td>35.00</td>\n",
       "      <td>0</td>\n",
       "      <td>...</td>\n",
       "      <td>5.09</td>\n",
       "      <td>626.38</td>\n",
       "      <td>237.0</td>\n",
       "      <td>51.01</td>\n",
       "      <td>71</td>\n",
       "      <td>7.14</td>\n",
       "      <td>10.65</td>\n",
       "      <td>2</td>\n",
       "      <td>46</td>\n",
       "      <td>32.16</td>\n",
       "    </tr>\n",
       "    <tr>\n",
       "      <th>1</th>\n",
       "      <td>6028500</td>\n",
       "      <td>29915</td>\n",
       "      <td>Málaga</td>\n",
       "      <td>NaN</td>\n",
       "      <td>NaN</td>\n",
       "      <td>Casa de pueblo</td>\n",
       "      <td>NaN</td>\n",
       "      <td>NaN</td>\n",
       "      <td>151.98</td>\n",
       "      <td>2</td>\n",
       "      <td>...</td>\n",
       "      <td>4.08</td>\n",
       "      <td>700.00</td>\n",
       "      <td>6.0</td>\n",
       "      <td>50.69</td>\n",
       "      <td>684</td>\n",
       "      <td>16.36</td>\n",
       "      <td>5.25</td>\n",
       "      <td>1</td>\n",
       "      <td>47</td>\n",
       "      <td>30.71</td>\n",
       "    </tr>\n",
       "    <tr>\n",
       "      <th>2</th>\n",
       "      <td>6028502</td>\n",
       "      <td>3740</td>\n",
       "      <td>Alicante</td>\n",
       "      <td>El inmueble(piso) se encuentra situado en el d...</td>\n",
       "      <td>VIVIENDA-PISO</td>\n",
       "      <td>Piso</td>\n",
       "      <td>2008.0</td>\n",
       "      <td>92.58</td>\n",
       "      <td>102.78</td>\n",
       "      <td>1</td>\n",
       "      <td>...</td>\n",
       "      <td>4.43</td>\n",
       "      <td>525.00</td>\n",
       "      <td>15.0</td>\n",
       "      <td>51.82</td>\n",
       "      <td>651</td>\n",
       "      <td>15.12</td>\n",
       "      <td>11.21</td>\n",
       "      <td>1</td>\n",
       "      <td>47</td>\n",
       "      <td>63.48</td>\n",
       "    </tr>\n",
       "    <tr>\n",
       "      <th>3</th>\n",
       "      <td>6028512</td>\n",
       "      <td>30592</td>\n",
       "      <td>Murcia</td>\n",
       "      <td>Plaza de garaje situada en la planta semisótan...</td>\n",
       "      <td>NaN</td>\n",
       "      <td>Garaje</td>\n",
       "      <td>NaN</td>\n",
       "      <td>11.81</td>\n",
       "      <td>12.46</td>\n",
       "      <td>0</td>\n",
       "      <td>...</td>\n",
       "      <td>5.03</td>\n",
       "      <td>863.17</td>\n",
       "      <td>168.0</td>\n",
       "      <td>50.74</td>\n",
       "      <td>92</td>\n",
       "      <td>15.82</td>\n",
       "      <td>14.55</td>\n",
       "      <td>2</td>\n",
       "      <td>47</td>\n",
       "      <td>108.27</td>\n",
       "    </tr>\n",
       "    <tr>\n",
       "      <th>4</th>\n",
       "      <td>6028513</td>\n",
       "      <td>30592</td>\n",
       "      <td>Murcia</td>\n",
       "      <td>Plaza de garaje situada en la planta semisótan...</td>\n",
       "      <td>NaN</td>\n",
       "      <td>Garaje</td>\n",
       "      <td>NaN</td>\n",
       "      <td>14.29</td>\n",
       "      <td>15.43</td>\n",
       "      <td>0</td>\n",
       "      <td>...</td>\n",
       "      <td>5.03</td>\n",
       "      <td>863.17</td>\n",
       "      <td>168.0</td>\n",
       "      <td>50.74</td>\n",
       "      <td>3</td>\n",
       "      <td>0.00</td>\n",
       "      <td>0.00</td>\n",
       "      <td>2</td>\n",
       "      <td>39</td>\n",
       "      <td>7.50</td>\n",
       "    </tr>\n",
       "  </tbody>\n",
       "</table>\n",
       "<p>5 rows × 53 columns</p>\n",
       "</div>"
      ],
      "text/plain": [
       "     HY_id  HY_cod_postal HY_provincia  \\\n",
       "0  6028499          18151      Granada   \n",
       "1  6028500          29915       Málaga   \n",
       "2  6028502           3740     Alicante   \n",
       "3  6028512          30592       Murcia   \n",
       "4  6028513          30592       Murcia   \n",
       "\n",
       "                                      HY_descripcion HY_distribucion  \\\n",
       "0  Plaza de Garaje ubicada en la planta sótano de...             NaN   \n",
       "1                                                NaN             NaN   \n",
       "2  El inmueble(piso) se encuentra situado en el d...   VIVIENDA-PISO   \n",
       "3  Plaza de garaje situada en la planta semisótan...             NaN   \n",
       "4  Plaza de garaje situada en la planta semisótan...             NaN   \n",
       "\n",
       "          HY_tipo  HY_antiguedad  HY_metros_utiles  HY_metros_totales  \\\n",
       "0          Garaje            NaN               NaN              35.00   \n",
       "1  Casa de pueblo            NaN               NaN             151.98   \n",
       "2            Piso         2008.0             92.58             102.78   \n",
       "3          Garaje            NaN             11.81              12.46   \n",
       "4          Garaje            NaN             14.29              15.43   \n",
       "\n",
       "   HY_num_banos   ...   IDEA_unitprice_rent_residential  \\\n",
       "0             0   ...                              5.09   \n",
       "1             2   ...                              4.08   \n",
       "2             1   ...                              4.43   \n",
       "3             0   ...                              5.03   \n",
       "4             0   ...                              5.03   \n",
       "\n",
       "   IDEA_price_rent_residential  IDEA_stock_rent_residential  \\\n",
       "0                       626.38                        237.0   \n",
       "1                       700.00                          6.0   \n",
       "2                       525.00                         15.0   \n",
       "3                       863.17                        168.0   \n",
       "4                       863.17                        168.0   \n",
       "\n",
       "   IDEA_demand_rent_residential  GA_page_views  GA_mean_bounce  GA_exit_rate  \\\n",
       "0                         51.01             71            7.14         10.65   \n",
       "1                         50.69            684           16.36          5.25   \n",
       "2                         51.82            651           15.12         11.21   \n",
       "3                         50.74             92           15.82         14.55   \n",
       "4                         50.74              3            0.00          0.00   \n",
       "\n",
       "   GA_quincena_ini  GA_quincena_ult  TARGET  \n",
       "0                2               46   32.16  \n",
       "1                1               47   30.71  \n",
       "2                1               47   63.48  \n",
       "3                2               47  108.27  \n",
       "4                2               39    7.50  \n",
       "\n",
       "[5 rows x 53 columns]"
      ]
     },
     "execution_count": 3,
     "metadata": {},
     "output_type": "execute_result"
    }
   ],
   "source": [
    "modelar.head()"
   ]
  },
  {
   "cell_type": "code",
   "execution_count": 4,
   "metadata": {},
   "outputs": [
    {
     "name": "stdout",
     "output_type": "stream",
     "text": [
      "TARGET\n"
     ]
    }
   ],
   "source": [
    "for i in modelar.columns:\n",
    "    a=True\n",
    "    if i not in estimar.columns:\n",
    "        a=False\n",
    "        print(i)\n",
    "        break"
   ]
  },
  {
   "cell_type": "code",
   "execution_count": 5,
   "metadata": {},
   "outputs": [
    {
     "name": "stdout",
     "output_type": "stream",
     "text": [
      "HY_id                                 0\n",
      "HY_cod_postal                         0\n",
      "HY_provincia                         42\n",
      "HY_descripcion                     3942\n",
      "HY_distribucion                    6745\n",
      "HY_tipo                               0\n",
      "HY_antiguedad                      5484\n",
      "HY_metros_utiles                   2886\n",
      "HY_metros_totales                    34\n",
      "HY_num_banos                          0\n",
      "HY_cert_energ                      8300\n",
      "HY_num_terrazas                       0\n",
      "HY_ascensor                           0\n",
      "HY_trastero                           0\n",
      "HY_num_garajes                        0\n",
      "HY_precio                             0\n",
      "HY_precio_anterior                 3158\n",
      "IDEA_area                          2631\n",
      "IDEA_poblacion                     2635\n",
      "IDEA_densidad                      2635\n",
      "IDEA_pc_1960                       2710\n",
      "IDEA_pc_1960_69                    2710\n",
      "IDEA_pc_1970_79                    2710\n",
      "IDEA_pc_1980_89                    2710\n",
      "IDEA_pc_1990_99                    2710\n",
      "IDEA_pc_2000_10                    2710\n",
      "IDEA_pc_comercio                   2710\n",
      "IDEA_pc_industria                  2710\n",
      "IDEA_pc_oficina                    2710\n",
      "IDEA_pc_otros                      2710\n",
      "IDEA_pc_residencial                2710\n",
      "IDEA_pc_trast_parking              2710\n",
      "IDEA_ind_tienda                    2717\n",
      "IDEA_ind_turismo                   2717\n",
      "IDEA_ind_alimentacion              2717\n",
      "IDEA_ind_riqueza                   2631\n",
      "IDEA_rent_alquiler                 3062\n",
      "IDEA_ind_elasticidad               5106\n",
      "IDEA_ind_liquidez                  5106\n",
      "IDEA_unitprice_sale_residential    2635\n",
      "IDEA_price_sale_residential        2635\n",
      "IDEA_stock_sale_residential        2635\n",
      "IDEA_demand_sale_residential       2635\n",
      "IDEA_unitprice_rent_residential    2998\n",
      "IDEA_price_rent_residential        2998\n",
      "IDEA_stock_rent_residential        2998\n",
      "IDEA_demand_rent_residential       2635\n",
      "GA_page_views                         0\n",
      "GA_mean_bounce                        0\n",
      "GA_exit_rate                          0\n",
      "GA_quincena_ini                       0\n",
      "GA_quincena_ult                       0\n",
      "TARGET                                0\n",
      "dtype: int64\n"
     ]
    }
   ],
   "source": [
    "missing_val_count=modelar.isnull().sum()\n",
    "\n",
    "print(missing_val_count)"
   ]
  },
  {
   "cell_type": "code",
   "execution_count": 13,
   "metadata": {},
   "outputs": [
    {
     "data": {
      "text/plain": [
       "Valencia       2080\n",
       "Almería        1768\n",
       "Murcia         1516\n",
       "Castellón      1347\n",
       "Alicante        794\n",
       "Málaga          534\n",
       "Granada         384\n",
       "Valladolid      300\n",
       "Tarragona       293\n",
       "Barcelona       161\n",
       "Las Palmas      122\n",
       "Madrid           77\n",
       "Cádiz            74\n",
       "Baleares         73\n",
       "Albacete         45\n",
       "La Rioja         45\n",
       "Gerona           38\n",
       "Soria            34\n",
       "Córdoba          32\n",
       "Teruel           22\n",
       "Cuenca           21\n",
       "Palencia         19\n",
       "Guadalajara      19\n",
       "León             18\n",
       "Toledo           17\n",
       "A Coruña         16\n",
       "Sevilla          11\n",
       "Huelva           10\n",
       "Zaragoza          9\n",
       "Avila             9\n",
       "Ciudad Real       5\n",
       "Lérida            5\n",
       "Pontevedra        5\n",
       "Huesca            3\n",
       "Tenerife          2\n",
       "Burgos            2\n",
       "Cáceres           1\n",
       "Segovia           1\n",
       "Navarra           1\n",
       "Asturias          1\n",
       "Badajoz           1\n",
       "Jaén              1\n",
       "Name: HY_provincia, dtype: int64"
      ]
     },
     "execution_count": 13,
     "metadata": {},
     "output_type": "execute_result"
    }
   ],
   "source": [
    "modelar['HY_provincia'].value_counts()"
   ]
  },
  {
   "cell_type": "code",
   "execution_count": 24,
   "metadata": {},
   "outputs": [
    {
     "data": {
      "text/html": [
       "<div>\n",
       "<style scoped>\n",
       "    .dataframe tbody tr th:only-of-type {\n",
       "        vertical-align: middle;\n",
       "    }\n",
       "\n",
       "    .dataframe tbody tr th {\n",
       "        vertical-align: top;\n",
       "    }\n",
       "\n",
       "    .dataframe thead th {\n",
       "        text-align: right;\n",
       "    }\n",
       "</style>\n",
       "<table border=\"1\" class=\"dataframe\">\n",
       "  <thead>\n",
       "    <tr style=\"text-align: right;\">\n",
       "      <th></th>\n",
       "      <th>TARGET</th>\n",
       "    </tr>\n",
       "    <tr>\n",
       "      <th>HY_provincia</th>\n",
       "      <th></th>\n",
       "    </tr>\n",
       "  </thead>\n",
       "  <tbody>\n",
       "    <tr>\n",
       "      <th>A Coruña</th>\n",
       "      <td>58.505625</td>\n",
       "    </tr>\n",
       "    <tr>\n",
       "      <th>Albacete</th>\n",
       "      <td>94.687778</td>\n",
       "    </tr>\n",
       "    <tr>\n",
       "      <th>Alicante</th>\n",
       "      <td>80.342972</td>\n",
       "    </tr>\n",
       "    <tr>\n",
       "      <th>Almería</th>\n",
       "      <td>71.551012</td>\n",
       "    </tr>\n",
       "    <tr>\n",
       "      <th>Asturias</th>\n",
       "      <td>62.950000</td>\n",
       "    </tr>\n",
       "    <tr>\n",
       "      <th>Avila</th>\n",
       "      <td>70.886667</td>\n",
       "    </tr>\n",
       "    <tr>\n",
       "      <th>Badajoz</th>\n",
       "      <td>96.610000</td>\n",
       "    </tr>\n",
       "    <tr>\n",
       "      <th>Baleares</th>\n",
       "      <td>65.949178</td>\n",
       "    </tr>\n",
       "    <tr>\n",
       "      <th>Barcelona</th>\n",
       "      <td>81.296025</td>\n",
       "    </tr>\n",
       "    <tr>\n",
       "      <th>Burgos</th>\n",
       "      <td>39.730000</td>\n",
       "    </tr>\n",
       "    <tr>\n",
       "      <th>Castellón</th>\n",
       "      <td>76.705568</td>\n",
       "    </tr>\n",
       "    <tr>\n",
       "      <th>Ciudad Real</th>\n",
       "      <td>68.998000</td>\n",
       "    </tr>\n",
       "    <tr>\n",
       "      <th>Cuenca</th>\n",
       "      <td>56.514762</td>\n",
       "    </tr>\n",
       "    <tr>\n",
       "      <th>Cáceres</th>\n",
       "      <td>143.520000</td>\n",
       "    </tr>\n",
       "    <tr>\n",
       "      <th>Cádiz</th>\n",
       "      <td>88.270135</td>\n",
       "    </tr>\n",
       "    <tr>\n",
       "      <th>Córdoba</th>\n",
       "      <td>83.086875</td>\n",
       "    </tr>\n",
       "    <tr>\n",
       "      <th>Gerona</th>\n",
       "      <td>75.776053</td>\n",
       "    </tr>\n",
       "    <tr>\n",
       "      <th>Granada</th>\n",
       "      <td>61.896120</td>\n",
       "    </tr>\n",
       "    <tr>\n",
       "      <th>Guadalajara</th>\n",
       "      <td>34.684211</td>\n",
       "    </tr>\n",
       "    <tr>\n",
       "      <th>Huelva</th>\n",
       "      <td>87.193000</td>\n",
       "    </tr>\n",
       "    <tr>\n",
       "      <th>Huesca</th>\n",
       "      <td>59.353333</td>\n",
       "    </tr>\n",
       "    <tr>\n",
       "      <th>Jaén</th>\n",
       "      <td>53.650000</td>\n",
       "    </tr>\n",
       "    <tr>\n",
       "      <th>La Rioja</th>\n",
       "      <td>52.752889</td>\n",
       "    </tr>\n",
       "    <tr>\n",
       "      <th>Las Palmas</th>\n",
       "      <td>83.702295</td>\n",
       "    </tr>\n",
       "    <tr>\n",
       "      <th>León</th>\n",
       "      <td>75.097222</td>\n",
       "    </tr>\n",
       "    <tr>\n",
       "      <th>Lérida</th>\n",
       "      <td>77.262000</td>\n",
       "    </tr>\n",
       "    <tr>\n",
       "      <th>Madrid</th>\n",
       "      <td>75.911429</td>\n",
       "    </tr>\n",
       "    <tr>\n",
       "      <th>Murcia</th>\n",
       "      <td>75.079162</td>\n",
       "    </tr>\n",
       "    <tr>\n",
       "      <th>Málaga</th>\n",
       "      <td>77.482734</td>\n",
       "    </tr>\n",
       "    <tr>\n",
       "      <th>Navarra</th>\n",
       "      <td>65.450000</td>\n",
       "    </tr>\n",
       "    <tr>\n",
       "      <th>Palencia</th>\n",
       "      <td>67.635789</td>\n",
       "    </tr>\n",
       "    <tr>\n",
       "      <th>Pontevedra</th>\n",
       "      <td>45.900000</td>\n",
       "    </tr>\n",
       "    <tr>\n",
       "      <th>Segovia</th>\n",
       "      <td>92.820000</td>\n",
       "    </tr>\n",
       "    <tr>\n",
       "      <th>Sevilla</th>\n",
       "      <td>90.148182</td>\n",
       "    </tr>\n",
       "    <tr>\n",
       "      <th>Soria</th>\n",
       "      <td>49.425588</td>\n",
       "    </tr>\n",
       "    <tr>\n",
       "      <th>Tarragona</th>\n",
       "      <td>74.013584</td>\n",
       "    </tr>\n",
       "    <tr>\n",
       "      <th>Tenerife</th>\n",
       "      <td>75.975000</td>\n",
       "    </tr>\n",
       "    <tr>\n",
       "      <th>Teruel</th>\n",
       "      <td>68.744091</td>\n",
       "    </tr>\n",
       "    <tr>\n",
       "      <th>Toledo</th>\n",
       "      <td>78.572941</td>\n",
       "    </tr>\n",
       "    <tr>\n",
       "      <th>Valencia</th>\n",
       "      <td>76.300389</td>\n",
       "    </tr>\n",
       "    <tr>\n",
       "      <th>Valladolid</th>\n",
       "      <td>50.792667</td>\n",
       "    </tr>\n",
       "    <tr>\n",
       "      <th>Zaragoza</th>\n",
       "      <td>109.932222</td>\n",
       "    </tr>\n",
       "  </tbody>\n",
       "</table>\n",
       "</div>"
      ],
      "text/plain": [
       "                  TARGET\n",
       "HY_provincia            \n",
       "A Coruña       58.505625\n",
       "Albacete       94.687778\n",
       "Alicante       80.342972\n",
       "Almería        71.551012\n",
       "Asturias       62.950000\n",
       "Avila          70.886667\n",
       "Badajoz        96.610000\n",
       "Baleares       65.949178\n",
       "Barcelona      81.296025\n",
       "Burgos         39.730000\n",
       "Castellón      76.705568\n",
       "Ciudad Real    68.998000\n",
       "Cuenca         56.514762\n",
       "Cáceres       143.520000\n",
       "Cádiz          88.270135\n",
       "Córdoba        83.086875\n",
       "Gerona         75.776053\n",
       "Granada        61.896120\n",
       "Guadalajara    34.684211\n",
       "Huelva         87.193000\n",
       "Huesca         59.353333\n",
       "Jaén           53.650000\n",
       "La Rioja       52.752889\n",
       "Las Palmas     83.702295\n",
       "León           75.097222\n",
       "Lérida         77.262000\n",
       "Madrid         75.911429\n",
       "Murcia         75.079162\n",
       "Málaga         77.482734\n",
       "Navarra        65.450000\n",
       "Palencia       67.635789\n",
       "Pontevedra     45.900000\n",
       "Segovia        92.820000\n",
       "Sevilla        90.148182\n",
       "Soria          49.425588\n",
       "Tarragona      74.013584\n",
       "Tenerife       75.975000\n",
       "Teruel         68.744091\n",
       "Toledo         78.572941\n",
       "Valencia       76.300389\n",
       "Valladolid     50.792667\n",
       "Zaragoza      109.932222"
      ]
     },
     "execution_count": 24,
     "metadata": {},
     "output_type": "execute_result"
    }
   ],
   "source": [
    "modelar[['HY_provincia', 'TARGET']].groupby(by = 'HY_provincia').mean()"
   ]
  },
  {
   "cell_type": "code",
   "execution_count": 6,
   "metadata": {},
   "outputs": [
    {
     "name": "stderr",
     "output_type": "stream",
     "text": [
      "C:\\Users\\ruttamchandani\\AppData\\Local\\Continuum\\anaconda3\\lib\\site-packages\\scipy\\stats\\stats.py:1713: FutureWarning: Using a non-tuple sequence for multidimensional indexing is deprecated; use `arr[tuple(seq)]` instead of `arr[seq]`. In the future this will be interpreted as an array index, `arr[np.array(seq)]`, which will result either in an error or a different result.\n",
      "  return np.add.reduce(sorted[indexer] * weights, axis=axis) / sumval\n"
     ]
    },
    {
     "data": {
      "image/png": "[encoded data removed]",
      "text/plain": [
       "<Figure size 432x288 with 1 Axes>"
      ]
     },
     "metadata": {
      "needs_background": "light"
     },
     "output_type": "display_data"
    }
   ],
   "source": [
    "sns.distplot(modelar.TARGET);"
   ]
  },
  {
   "cell_type": "code",
   "execution_count": 7,
   "metadata": {},
   "outputs": [
    {
     "data": {
      "text/plain": [
       "count    9958.000000\n",
       "mean       74.155855\n",
       "std        89.738992\n",
       "min         0.000000\n",
       "25%        28.655000\n",
       "50%        56.275000\n",
       "75%        90.507500\n",
       "max      1770.000000\n",
       "Name: TARGET, dtype: float64"
      ]
     },
     "execution_count": 7,
     "metadata": {},
     "output_type": "execute_result"
    }
   ],
   "source": [
    "modelar.TARGET.describe()"
   ]
  },
  {
   "cell_type": "code",
   "execution_count": 30,
   "metadata": {},
   "outputs": [],
   "source": [
    "modelar = modelar.loc[modelar['TARGET']<300,]"
   ]
  },
  {
   "cell_type": "code",
   "execution_count": 31,
   "metadata": {},
   "outputs": [],
   "source": [
    "modelar.to_csv('./modelar_normalized.csv', index = False)"
   ]
  },
  {
   "cell_type": "markdown",
   "metadata": {},
   "source": [
    "# Testing: Mutual information vs. correlation:"
   ]
  },
  {
   "cell_type": "code",
   "execution_count": 8,
   "metadata": {
    "scrolled": true
   },
   "outputs": [
    {
     "data": {
      "text/html": [
       "<div>\n",
       "<style scoped>\n",
       "    .dataframe tbody tr th:only-of-type {\n",
       "        vertical-align: middle;\n",
       "    }\n",
       "\n",
       "    .dataframe tbody tr th {\n",
       "        vertical-align: top;\n",
       "    }\n",
       "\n",
       "    .dataframe thead th {\n",
       "        text-align: right;\n",
       "    }\n",
       "</style>\n",
       "<table border=\"1\" class=\"dataframe\">\n",
       "  <thead>\n",
       "    <tr style=\"text-align: right;\">\n",
       "      <th></th>\n",
       "      <th>col1</th>\n",
       "      <th>col2</th>\n",
       "      <th>Target</th>\n",
       "    </tr>\n",
       "  </thead>\n",
       "  <tbody>\n",
       "    <tr>\n",
       "      <th>0</th>\n",
       "      <td>1</td>\n",
       "      <td>0</td>\n",
       "      <td>1</td>\n",
       "    </tr>\n",
       "    <tr>\n",
       "      <th>1</th>\n",
       "      <td>0</td>\n",
       "      <td>0</td>\n",
       "      <td>1</td>\n",
       "    </tr>\n",
       "    <tr>\n",
       "      <th>2</th>\n",
       "      <td>1</td>\n",
       "      <td>0</td>\n",
       "      <td>1</td>\n",
       "    </tr>\n",
       "    <tr>\n",
       "      <th>3</th>\n",
       "      <td>0</td>\n",
       "      <td>0</td>\n",
       "      <td>1</td>\n",
       "    </tr>\n",
       "    <tr>\n",
       "      <th>4</th>\n",
       "      <td>1</td>\n",
       "      <td>1</td>\n",
       "      <td>0</td>\n",
       "    </tr>\n",
       "    <tr>\n",
       "      <th>5</th>\n",
       "      <td>0</td>\n",
       "      <td>1</td>\n",
       "      <td>0</td>\n",
       "    </tr>\n",
       "    <tr>\n",
       "      <th>6</th>\n",
       "      <td>1</td>\n",
       "      <td>1</td>\n",
       "      <td>0</td>\n",
       "    </tr>\n",
       "    <tr>\n",
       "      <th>7</th>\n",
       "      <td>0</td>\n",
       "      <td>1</td>\n",
       "      <td>0</td>\n",
       "    </tr>\n",
       "    <tr>\n",
       "      <th>8</th>\n",
       "      <td>1</td>\n",
       "      <td>1</td>\n",
       "      <td>0</td>\n",
       "    </tr>\n",
       "  </tbody>\n",
       "</table>\n",
       "</div>"
      ],
      "text/plain": [
       "   col1  col2  Target\n",
       "0     1     0       1\n",
       "1     0     0       1\n",
       "2     1     0       1\n",
       "3     0     0       1\n",
       "4     1     1       0\n",
       "5     0     1       0\n",
       "6     1     1       0\n",
       "7     0     1       0\n",
       "8     1     1       0"
      ]
     },
     "execution_count": 8,
     "metadata": {},
     "output_type": "execute_result"
    }
   ],
   "source": [
    "d = {'col1': [1,0,1,0,1,0,1,0,1], 'col2': [0,0,0,0,1,1,1,1,1],'Target': [1,1,1,1,0,0,0,0,0]}\n",
    "df = pd.DataFrame(data=d)\n",
    "df"
   ]
  },
  {
   "cell_type": "code",
   "execution_count": 42,
   "metadata": {},
   "outputs": [],
   "source": [
    "import numpy as np\n",
    "\n",
    "#Mutual information definition as seen in Info. theory\n",
    "def MI(X,Y,bins):\n",
    "   p_XY = np.histogram2d(X,Y,bins)[0]\n",
    "   p_X = np.histogram(X,bins)[0]\n",
    "   p_Y = np.histogram(Y,bins)[0]\n",
    "\n",
    "   H_X = entropy(p_X)\n",
    "   H_Y = entropy(p_Y)\n",
    "   H_XY = entropy(p_XY)\n",
    "\n",
    "   MI = H_X + H_Y - H_XY\n",
    "   return MI\n",
    "\n",
    "#Shannon's entropy definition:\n",
    "def entropy(c):\n",
    "    c_normalized = c / float(np.sum(c))\n",
    "    c_normalized = c_normalized[np.nonzero(c_normalized)]\n",
    "    H = -sum(c_normalized* np.log2(c_normalized))  \n",
    "    return H\n",
    "\n",
    "def MI_matrix(A,bins):\n",
    "    try: \n",
    "        A=A.values\n",
    "        print(A)\n",
    "    except:\n",
    "        A=A\n",
    "    n=A.shape[1]\n",
    "    matMI = np.zeros((n, n))\n",
    "    for ix in np.arange(n):\n",
    "        for jx in np.arange(ix+1,n):\n",
    "            matMI[ix,jx] = MI(A[:,ix], A[:,jx], bins)\n",
    "    cmap = sns.diverging_palette(255, 220, as_cmap=True)\n",
    "    sns.heatmap(matMI.transpose(), cmap=cmap, center=0,\n",
    "                square=True, linewidths=.5, cbar_kws={\"shrink\": .5})\n",
    "    return matMI\n",
    "\n",
    "#Test. Be careful with unbalanced classes. \n",
    "A = np.array([[ 1,  0,  1, 1, 0  ],\n",
    "              [ 1,  1, 0, 1 , 0 ],\n",
    "              [ 0,  1,  1, 0, 1 ],\n",
    "              [0,  1,  1, 0, 1 ],\n",
    "             [0,  2,  5, 0, 3 ]])"
   ]
  },
  {
   "cell_type": "code",
   "execution_count": 52,
   "metadata": {},
   "outputs": [
    {
     "data": {
      "text/html": [
       "<div>\n",
       "<style scoped>\n",
       "    .dataframe tbody tr th:only-of-type {\n",
       "        vertical-align: middle;\n",
       "    }\n",
       "\n",
       "    .dataframe tbody tr th {\n",
       "        vertical-align: top;\n",
       "    }\n",
       "\n",
       "    .dataframe thead th {\n",
       "        text-align: right;\n",
       "    }\n",
       "</style>\n",
       "<table border=\"1\" class=\"dataframe\">\n",
       "  <thead>\n",
       "    <tr style=\"text-align: right;\">\n",
       "      <th></th>\n",
       "      <th>0</th>\n",
       "      <th>1</th>\n",
       "      <th>2</th>\n",
       "      <th>3</th>\n",
       "      <th>4</th>\n",
       "    </tr>\n",
       "  </thead>\n",
       "  <tbody>\n",
       "    <tr>\n",
       "      <th>0</th>\n",
       "      <td>1.000000</td>\n",
       "      <td>-0.645497</td>\n",
       "      <td>-0.515122</td>\n",
       "      <td>1.000000</td>\n",
       "      <td>-0.745356</td>\n",
       "    </tr>\n",
       "    <tr>\n",
       "      <th>1</th>\n",
       "      <td>-0.645497</td>\n",
       "      <td>1.000000</td>\n",
       "      <td>0.725476</td>\n",
       "      <td>-0.645497</td>\n",
       "      <td>0.866025</td>\n",
       "    </tr>\n",
       "    <tr>\n",
       "      <th>2</th>\n",
       "      <td>-0.515122</td>\n",
       "      <td>0.725476</td>\n",
       "      <td>1.000000</td>\n",
       "      <td>-0.515122</td>\n",
       "      <td>0.942421</td>\n",
       "    </tr>\n",
       "    <tr>\n",
       "      <th>3</th>\n",
       "      <td>1.000000</td>\n",
       "      <td>-0.645497</td>\n",
       "      <td>-0.515122</td>\n",
       "      <td>1.000000</td>\n",
       "      <td>-0.745356</td>\n",
       "    </tr>\n",
       "    <tr>\n",
       "      <th>4</th>\n",
       "      <td>-0.745356</td>\n",
       "      <td>0.866025</td>\n",
       "      <td>0.942421</td>\n",
       "      <td>-0.745356</td>\n",
       "      <td>1.000000</td>\n",
       "    </tr>\n",
       "  </tbody>\n",
       "</table>\n",
       "</div>"
      ],
      "text/plain": [
       "          0         1         2         3         4\n",
       "0  1.000000 -0.645497 -0.515122  1.000000 -0.745356\n",
       "1 -0.645497  1.000000  0.725476 -0.645497  0.866025\n",
       "2 -0.515122  0.725476  1.000000 -0.515122  0.942421\n",
       "3  1.000000 -0.645497 -0.515122  1.000000 -0.745356\n",
       "4 -0.745356  0.866025  0.942421 -0.745356  1.000000"
      ]
     },
     "execution_count": 52,
     "metadata": {},
     "output_type": "execute_result"
    }
   ],
   "source": [
    "A_df=pd.DataFrame(A)\n",
    "A_df.corr()"
   ]
  },
  {
   "cell_type": "code",
   "execution_count": 53,
   "metadata": {},
   "outputs": [
    {
     "data": {
      "text/html": [
       "<div>\n",
       "<style scoped>\n",
       "    .dataframe tbody tr th:only-of-type {\n",
       "        vertical-align: middle;\n",
       "    }\n",
       "\n",
       "    .dataframe tbody tr th {\n",
       "        vertical-align: top;\n",
       "    }\n",
       "\n",
       "    .dataframe thead th {\n",
       "        text-align: right;\n",
       "    }\n",
       "</style>\n",
       "<table border=\"1\" class=\"dataframe\">\n",
       "  <thead>\n",
       "    <tr style=\"text-align: right;\">\n",
       "      <th></th>\n",
       "      <th>0</th>\n",
       "      <th>1</th>\n",
       "      <th>2</th>\n",
       "      <th>3</th>\n",
       "      <th>4</th>\n",
       "    </tr>\n",
       "  </thead>\n",
       "  <tbody>\n",
       "    <tr>\n",
       "      <th>0</th>\n",
       "      <td>1.000000</td>\n",
       "      <td>-0.645497</td>\n",
       "      <td>-0.515122</td>\n",
       "      <td>1.000000</td>\n",
       "      <td>-0.745356</td>\n",
       "    </tr>\n",
       "    <tr>\n",
       "      <th>1</th>\n",
       "      <td>-0.645497</td>\n",
       "      <td>1.000000</td>\n",
       "      <td>0.725476</td>\n",
       "      <td>-0.645497</td>\n",
       "      <td>0.866025</td>\n",
       "    </tr>\n",
       "    <tr>\n",
       "      <th>2</th>\n",
       "      <td>-0.515122</td>\n",
       "      <td>0.725476</td>\n",
       "      <td>1.000000</td>\n",
       "      <td>-0.515122</td>\n",
       "      <td>0.942421</td>\n",
       "    </tr>\n",
       "    <tr>\n",
       "      <th>3</th>\n",
       "      <td>1.000000</td>\n",
       "      <td>-0.645497</td>\n",
       "      <td>-0.515122</td>\n",
       "      <td>1.000000</td>\n",
       "      <td>-0.745356</td>\n",
       "    </tr>\n",
       "    <tr>\n",
       "      <th>4</th>\n",
       "      <td>-0.745356</td>\n",
       "      <td>0.866025</td>\n",
       "      <td>0.942421</td>\n",
       "      <td>-0.745356</td>\n",
       "      <td>1.000000</td>\n",
       "    </tr>\n",
       "  </tbody>\n",
       "</table>\n",
       "</div>"
      ],
      "text/plain": [
       "          0         1         2         3         4\n",
       "0  1.000000 -0.645497 -0.515122  1.000000 -0.745356\n",
       "1 -0.645497  1.000000  0.725476 -0.645497  0.866025\n",
       "2 -0.515122  0.725476  1.000000 -0.515122  0.942421\n",
       "3  1.000000 -0.645497 -0.515122  1.000000 -0.745356\n",
       "4 -0.745356  0.866025  0.942421 -0.745356  1.000000"
      ]
     },
     "execution_count": 53,
     "metadata": {},
     "output_type": "execute_result"
    },
    {
     "data": {
      "image/png": "[encoded data removed]",
      "text/plain": [
       "<Figure size 432x288 with 2 Axes>"
      ]
     },
     "metadata": {
      "needs_background": "light"
     },
     "output_type": "display_data"
    }
   ],
   "source": [
    "def Corr_Matrix(dataframe):\n",
    "    a=dataframe.corr()\n",
    "    # Generate a mask for the upper triangle\n",
    "    mask = np.zeros_like(a, dtype=np.bool)\n",
    "    mask[np.triu_indices_from(mask)] = True\n",
    "\n",
    "    # Generate a custom diverging colormap\n",
    "    cmap = sns.diverging_palette(220, 10, as_cmap=True)\n",
    "\n",
    "    sns.heatmap(a, mask=mask, cmap=cmap, vmax=.3, center=0,\n",
    "                square=True, linewidths=.5, cbar_kws={\"shrink\": .5})\n",
    "    return a\n",
    "Corr_Matrix(A_df)"
   ]
  },
  {
   "cell_type": "code",
   "execution_count": 71,
   "metadata": {},
   "outputs": [
    {
     "data": {
      "text/plain": [
       "array([[0.        , 0.41997309, 0.41997309, 0.97095059, 0.97095059],\n",
       "       [0.        , 0.        , 0.81997309, 0.41997309, 0.97095059],\n",
       "       [0.        , 0.        , 0.        , 0.41997309, 0.97095059],\n",
       "       [0.        , 0.        , 0.        , 0.        , 0.97095059],\n",
       "       [0.        , 0.        , 0.        , 0.        , 0.        ]])"
      ]
     },
     "execution_count": 71,
     "metadata": {},
     "output_type": "execute_result"
    },
    {
     "data": {
      "image/png": "[encoded data removed]",
      "text/plain": [
       "<Figure size 432x288 with 2 Axes>"
      ]
     },
     "metadata": {
      "needs_background": "light"
     },
     "output_type": "display_data"
    }
   ],
   "source": [
    "MI_matrix(A,bins=10)"
   ]
  },
  {
   "cell_type": "code",
   "execution_count": 92,
   "metadata": {},
   "outputs": [
    {
     "data": {
      "text/html": [
       "<div>\n",
       "<style scoped>\n",
       "    .dataframe tbody tr th:only-of-type {\n",
       "        vertical-align: middle;\n",
       "    }\n",
       "\n",
       "    .dataframe tbody tr th {\n",
       "        vertical-align: top;\n",
       "    }\n",
       "\n",
       "    .dataframe thead th {\n",
       "        text-align: right;\n",
       "    }\n",
       "</style>\n",
       "<table border=\"1\" class=\"dataframe\">\n",
       "  <thead>\n",
       "    <tr style=\"text-align: right;\">\n",
       "      <th></th>\n",
       "      <th>HY_num_banos</th>\n",
       "      <th>TARGET</th>\n",
       "    </tr>\n",
       "  </thead>\n",
       "  <tbody>\n",
       "    <tr>\n",
       "      <th>0</th>\n",
       "      <td>0</td>\n",
       "      <td>32.16</td>\n",
       "    </tr>\n",
       "    <tr>\n",
       "      <th>1</th>\n",
       "      <td>2</td>\n",
       "      <td>30.71</td>\n",
       "    </tr>\n",
       "    <tr>\n",
       "      <th>2</th>\n",
       "      <td>1</td>\n",
       "      <td>63.48</td>\n",
       "    </tr>\n",
       "    <tr>\n",
       "      <th>3</th>\n",
       "      <td>0</td>\n",
       "      <td>108.27</td>\n",
       "    </tr>\n",
       "    <tr>\n",
       "      <th>4</th>\n",
       "      <td>0</td>\n",
       "      <td>7.50</td>\n",
       "    </tr>\n",
       "  </tbody>\n",
       "</table>\n",
       "</div>"
      ],
      "text/plain": [
       "   HY_num_banos  TARGET\n",
       "0             0   32.16\n",
       "1             2   30.71\n",
       "2             1   63.48\n",
       "3             0  108.27\n",
       "4             0    7.50"
      ]
     },
     "execution_count": 92,
     "metadata": {},
     "output_type": "execute_result"
    }
   ],
   "source": [
    "test=modelar[['HY_num_banos','TARGET']]\n",
    "test.head()"
   ]
  },
  {
   "cell_type": "code",
   "execution_count": 93,
   "metadata": {},
   "outputs": [
    {
     "ename": "ValueError",
     "evalue": "could not convert string to float: 'Granada'",
     "output_type": "error",
     "traceback": [
      "\u001b[1;31m---------------------------------------------------------------------------\u001b[0m",
      "\u001b[1;31mValueError\u001b[0m                                Traceback (most recent call last)",
      "\u001b[1;32m<ipython-input-93-5e5ca2662c74>\u001b[0m in \u001b[0;36m<module>\u001b[1;34m\u001b[0m\n\u001b[0;32m      1\u001b[0m \u001b[1;32mfrom\u001b[0m \u001b[0msklearn\u001b[0m \u001b[1;32mimport\u001b[0m \u001b[0mfeature_selection\u001b[0m \u001b[1;32mas\u001b[0m \u001b[0mfss\u001b[0m\u001b[1;33m\u001b[0m\u001b[1;33m\u001b[0m\u001b[0m\n\u001b[0;32m      2\u001b[0m \u001b[1;33m\u001b[0m\u001b[0m\n\u001b[1;32m----> 3\u001b[1;33m \u001b[0mfss\u001b[0m\u001b[1;33m.\u001b[0m\u001b[0mmutual_info_regression\u001b[0m\u001b[1;33m(\u001b[0m\u001b[0mmodelar\u001b[0m\u001b[1;33m,\u001b[0m\u001b[0mmodelar\u001b[0m\u001b[1;33m.\u001b[0m\u001b[0mTARGET\u001b[0m\u001b[1;33m)\u001b[0m\u001b[1;33m\u001b[0m\u001b[1;33m\u001b[0m\u001b[0m\n\u001b[0m\u001b[0;32m      4\u001b[0m \u001b[1;33m\u001b[0m\u001b[0m\n\u001b[0;32m      5\u001b[0m \u001b[1;33m\u001b[0m\u001b[0m\n",
      "\u001b[1;32m~\\AppData\\Local\\Continuum\\anaconda3\\lib\\site-packages\\sklearn\\feature_selection\\mutual_info_.py\u001b[0m in \u001b[0;36mmutual_info_regression\u001b[1;34m(X, y, discrete_features, n_neighbors, copy, random_state)\u001b[0m\n\u001b[0;32m    368\u001b[0m     \"\"\"\n\u001b[0;32m    369\u001b[0m     return _estimate_mi(X, y, discrete_features, False, n_neighbors,\n\u001b[1;32m--> 370\u001b[1;33m                         copy, random_state)\n\u001b[0m\u001b[0;32m    371\u001b[0m \u001b[1;33m\u001b[0m\u001b[0m\n\u001b[0;32m    372\u001b[0m \u001b[1;33m\u001b[0m\u001b[0m\n",
      "\u001b[1;32m~\\AppData\\Local\\Continuum\\anaconda3\\lib\\site-packages\\sklearn\\feature_selection\\mutual_info_.py\u001b[0m in \u001b[0;36m_estimate_mi\u001b[1;34m(X, y, discrete_features, discrete_target, n_neighbors, copy, random_state)\u001b[0m\n\u001b[0;32m    246\u001b[0m            \u001b[0mData\u001b[0m \u001b[0mSets\u001b[0m\u001b[0;31m\"\u001b[0m\u001b[1;33m.\u001b[0m \u001b[0mPLoS\u001b[0m \u001b[0mONE\u001b[0m \u001b[1;36m9\u001b[0m\u001b[1;33m(\u001b[0m\u001b[1;36m2\u001b[0m\u001b[1;33m)\u001b[0m\u001b[1;33m,\u001b[0m \u001b[1;36m2014.\u001b[0m\u001b[1;33m\u001b[0m\u001b[1;33m\u001b[0m\u001b[0m\n\u001b[0;32m    247\u001b[0m     \"\"\"\n\u001b[1;32m--> 248\u001b[1;33m     \u001b[0mX\u001b[0m\u001b[1;33m,\u001b[0m \u001b[0my\u001b[0m \u001b[1;33m=\u001b[0m \u001b[0mcheck_X_y\u001b[0m\u001b[1;33m(\u001b[0m\u001b[0mX\u001b[0m\u001b[1;33m,\u001b[0m \u001b[0my\u001b[0m\u001b[1;33m,\u001b[0m \u001b[0maccept_sparse\u001b[0m\u001b[1;33m=\u001b[0m\u001b[1;34m'csc'\u001b[0m\u001b[1;33m,\u001b[0m \u001b[0my_numeric\u001b[0m\u001b[1;33m=\u001b[0m\u001b[1;32mnot\u001b[0m \u001b[0mdiscrete_target\u001b[0m\u001b[1;33m)\u001b[0m\u001b[1;33m\u001b[0m\u001b[1;33m\u001b[0m\u001b[0m\n\u001b[0m\u001b[0;32m    249\u001b[0m     \u001b[0mn_samples\u001b[0m\u001b[1;33m,\u001b[0m \u001b[0mn_features\u001b[0m \u001b[1;33m=\u001b[0m \u001b[0mX\u001b[0m\u001b[1;33m.\u001b[0m\u001b[0mshape\u001b[0m\u001b[1;33m\u001b[0m\u001b[1;33m\u001b[0m\u001b[0m\n\u001b[0;32m    250\u001b[0m \u001b[1;33m\u001b[0m\u001b[0m\n",
      "\u001b[1;32m~\\AppData\\Local\\Continuum\\anaconda3\\lib\\site-packages\\sklearn\\utils\\validation.py\u001b[0m in \u001b[0;36mcheck_X_y\u001b[1;34m(X, y, accept_sparse, accept_large_sparse, dtype, order, copy, force_all_finite, ensure_2d, allow_nd, multi_output, ensure_min_samples, ensure_min_features, y_numeric, warn_on_dtype, estimator)\u001b[0m\n\u001b[0;32m    754\u001b[0m                     \u001b[0mensure_min_features\u001b[0m\u001b[1;33m=\u001b[0m\u001b[0mensure_min_features\u001b[0m\u001b[1;33m,\u001b[0m\u001b[1;33m\u001b[0m\u001b[1;33m\u001b[0m\u001b[0m\n\u001b[0;32m    755\u001b[0m                     \u001b[0mwarn_on_dtype\u001b[0m\u001b[1;33m=\u001b[0m\u001b[0mwarn_on_dtype\u001b[0m\u001b[1;33m,\u001b[0m\u001b[1;33m\u001b[0m\u001b[1;33m\u001b[0m\u001b[0m\n\u001b[1;32m--> 756\u001b[1;33m                     estimator=estimator)\n\u001b[0m\u001b[0;32m    757\u001b[0m     \u001b[1;32mif\u001b[0m \u001b[0mmulti_output\u001b[0m\u001b[1;33m:\u001b[0m\u001b[1;33m\u001b[0m\u001b[1;33m\u001b[0m\u001b[0m\n\u001b[0;32m    758\u001b[0m         y = check_array(y, 'csr', force_all_finite=True, ensure_2d=False,\n",
      "\u001b[1;32m~\\AppData\\Local\\Continuum\\anaconda3\\lib\\site-packages\\sklearn\\utils\\validation.py\u001b[0m in \u001b[0;36mcheck_array\u001b[1;34m(array, accept_sparse, accept_large_sparse, dtype, order, copy, force_all_finite, ensure_2d, allow_nd, ensure_min_samples, ensure_min_features, warn_on_dtype, estimator)\u001b[0m\n\u001b[0;32m    565\u001b[0m         \u001b[1;31m# make sure we actually converted to numeric:\u001b[0m\u001b[1;33m\u001b[0m\u001b[1;33m\u001b[0m\u001b[1;33m\u001b[0m\u001b[0m\n\u001b[0;32m    566\u001b[0m         \u001b[1;32mif\u001b[0m \u001b[0mdtype_numeric\u001b[0m \u001b[1;32mand\u001b[0m \u001b[0marray\u001b[0m\u001b[1;33m.\u001b[0m\u001b[0mdtype\u001b[0m\u001b[1;33m.\u001b[0m\u001b[0mkind\u001b[0m \u001b[1;33m==\u001b[0m \u001b[1;34m\"O\"\u001b[0m\u001b[1;33m:\u001b[0m\u001b[1;33m\u001b[0m\u001b[1;33m\u001b[0m\u001b[0m\n\u001b[1;32m--> 567\u001b[1;33m             \u001b[0marray\u001b[0m \u001b[1;33m=\u001b[0m \u001b[0marray\u001b[0m\u001b[1;33m.\u001b[0m\u001b[0mastype\u001b[0m\u001b[1;33m(\u001b[0m\u001b[0mnp\u001b[0m\u001b[1;33m.\u001b[0m\u001b[0mfloat64\u001b[0m\u001b[1;33m)\u001b[0m\u001b[1;33m\u001b[0m\u001b[1;33m\u001b[0m\u001b[0m\n\u001b[0m\u001b[0;32m    568\u001b[0m         \u001b[1;32mif\u001b[0m \u001b[1;32mnot\u001b[0m \u001b[0mallow_nd\u001b[0m \u001b[1;32mand\u001b[0m \u001b[0marray\u001b[0m\u001b[1;33m.\u001b[0m\u001b[0mndim\u001b[0m \u001b[1;33m>=\u001b[0m \u001b[1;36m3\u001b[0m\u001b[1;33m:\u001b[0m\u001b[1;33m\u001b[0m\u001b[1;33m\u001b[0m\u001b[0m\n\u001b[0;32m    569\u001b[0m             raise ValueError(\"Found array with dim %d. %s expected <= 2.\"\n",
      "\u001b[1;31mValueError\u001b[0m: could not convert string to float: 'Granada'"
     ]
    }
   ],
   "source": [
    "from sklearn import feature_selection as fss\n",
    "\n",
    "fss.mutual_info_regression(modelar,modelar.TARGET)\n",
    "\n",
    "\n"
   ]
  },
  {
   "cell_type": "markdown",
   "metadata": {},
   "source": [
    "# Test MI vs F-test:"
   ]
  },
  {
   "cell_type": "markdown",
   "metadata": {},
   "source": [
    "https://scikit-learn.org/stable/auto_examples/feature_selection/plot_f_test_vs_mi.html"
   ]
  },
  {
   "cell_type": "code",
   "execution_count": 48,
   "metadata": {},
   "outputs": [
    {
     "data": {
      "text/plain": [
       "5921"
      ]
     },
     "execution_count": 48,
     "metadata": {},
     "output_type": "execute_result"
    }
   ],
   "source": [
    "modelar['HY_descripcion'].count()"
   ]
  },
  {
   "cell_type": "code",
   "execution_count": 49,
   "metadata": {},
   "outputs": [
    {
     "data": {
      "text/plain": [
       "659"
      ]
     },
     "execution_count": 49,
     "metadata": {},
     "output_type": "execute_result"
    }
   ],
   "source": [
    "estimar['HY_descripcion'].count()"
   ]
  },
  {
   "cell_type": "code",
   "execution_count": 50,
   "metadata": {},
   "outputs": [
    {
     "data": {
      "text/plain": [
       "(1104, 52)"
      ]
     },
     "execution_count": 50,
     "metadata": {},
     "output_type": "execute_result"
    }
   ],
   "source": [
    "estimar.shape"
   ]
  },
  {
   "cell_type": "markdown",
   "metadata": {},
   "source": [
    "## EDA (Exploratory Data Analysis)"
   ]
  },
  {
   "cell_type": "code",
   "execution_count": 95,
   "metadata": {},
   "outputs": [],
   "source": [
    "from sklearn.model_selection import train_test_split"
   ]
  },
  {
   "cell_type": "code",
   "execution_count": 98,
   "metadata": {},
   "outputs": [],
   "source": [
    "modelar = pd.read_csv('modelar_normalized.csv')"
   ]
  },
  {
   "cell_type": "code",
   "execution_count": 4,
   "metadata": {
    "scrolled": false
   },
   "outputs": [
    {
     "data": {
      "text/plain": [
       "array([[<matplotlib.axes._subplots.AxesSubplot object at 0x000001D633BA8E48>,\n",
       "        <matplotlib.axes._subplots.AxesSubplot object at 0x000001D633C02780>,\n",
       "        <matplotlib.axes._subplots.AxesSubplot object at 0x000001D633CCDE10>,\n",
       "        <matplotlib.axes._subplots.AxesSubplot object at 0x000001D633FA14E0>,\n",
       "        <matplotlib.axes._subplots.AxesSubplot object at 0x000001D633FC3B70>,\n",
       "        <matplotlib.axes._subplots.AxesSubplot object at 0x000001D633FC3BA8>,\n",
       "        <matplotlib.axes._subplots.AxesSubplot object at 0x000001D63526A8D0>],\n",
       "       [<matplotlib.axes._subplots.AxesSubplot object at 0x000001D635291F60>,\n",
       "        <matplotlib.axes._subplots.AxesSubplot object at 0x000001D6352C2630>,\n",
       "        <matplotlib.axes._subplots.AxesSubplot object at 0x000001D6352E8CC0>,\n",
       "        <matplotlib.axes._subplots.AxesSubplot object at 0x000001D63531A390>,\n",
       "        <matplotlib.axes._subplots.AxesSubplot object at 0x000001D635340A20>,\n",
       "        <matplotlib.axes._subplots.AxesSubplot object at 0x000001D6353730F0>,\n",
       "        <matplotlib.axes._subplots.AxesSubplot object at 0x000001D63539B780>],\n",
       "       [<matplotlib.axes._subplots.AxesSubplot object at 0x000001D6353C2E10>,\n",
       "        <matplotlib.axes._subplots.AxesSubplot object at 0x000001D6353F34E0>,\n",
       "        <matplotlib.axes._subplots.AxesSubplot object at 0x000001D63541BB70>,\n",
       "        <matplotlib.axes._subplots.AxesSubplot object at 0x000001D63544C240>,\n",
       "        <matplotlib.axes._subplots.AxesSubplot object at 0x000001D6354718D0>,\n",
       "        <matplotlib.axes._subplots.AxesSubplot object at 0x000001D63549CF60>,\n",
       "        <matplotlib.axes._subplots.AxesSubplot object at 0x000001D6354CC630>],\n",
       "       [<matplotlib.axes._subplots.AxesSubplot object at 0x000001D6354F4CC0>,\n",
       "        <matplotlib.axes._subplots.AxesSubplot object at 0x000001D635525390>,\n",
       "        <matplotlib.axes._subplots.AxesSubplot object at 0x000001D63554BA20>,\n",
       "        <matplotlib.axes._subplots.AxesSubplot object at 0x000001D63557D0F0>,\n",
       "        <matplotlib.axes._subplots.AxesSubplot object at 0x000001D6355A3780>,\n",
       "        <matplotlib.axes._subplots.AxesSubplot object at 0x000001D6355CDE10>,\n",
       "        <matplotlib.axes._subplots.AxesSubplot object at 0x000001D6355FE4E0>],\n",
       "       [<matplotlib.axes._subplots.AxesSubplot object at 0x000001D635623B70>,\n",
       "        <matplotlib.axes._subplots.AxesSubplot object at 0x000001D635656240>,\n",
       "        <matplotlib.axes._subplots.AxesSubplot object at 0x000001D63567E8D0>,\n",
       "        <matplotlib.axes._subplots.AxesSubplot object at 0x000001D6356A5F60>,\n",
       "        <matplotlib.axes._subplots.AxesSubplot object at 0x000001D6356D5630>,\n",
       "        <matplotlib.axes._subplots.AxesSubplot object at 0x000001D6356FFCC0>,\n",
       "        <matplotlib.axes._subplots.AxesSubplot object at 0x000001D63572F390>],\n",
       "       [<matplotlib.axes._subplots.AxesSubplot object at 0x000001D635756A20>,\n",
       "        <matplotlib.axes._subplots.AxesSubplot object at 0x000001D63578A0F0>,\n",
       "        <matplotlib.axes._subplots.AxesSubplot object at 0x000001D6357B0780>,\n",
       "        <matplotlib.axes._subplots.AxesSubplot object at 0x000001D6357D8E10>,\n",
       "        <matplotlib.axes._subplots.AxesSubplot object at 0x000001D6358084E0>,\n",
       "        <matplotlib.axes._subplots.AxesSubplot object at 0x000001D635830B70>,\n",
       "        <matplotlib.axes._subplots.AxesSubplot object at 0x000001D635861240>],\n",
       "       [<matplotlib.axes._subplots.AxesSubplot object at 0x000001D6358888D0>,\n",
       "        <matplotlib.axes._subplots.AxesSubplot object at 0x000001D6358B1F60>,\n",
       "        <matplotlib.axes._subplots.AxesSubplot object at 0x000001D6358E2630>,\n",
       "        <matplotlib.axes._subplots.AxesSubplot object at 0x000001D635909CC0>,\n",
       "        <matplotlib.axes._subplots.AxesSubplot object at 0x000001D63593C390>,\n",
       "        <matplotlib.axes._subplots.AxesSubplot object at 0x000001D635960A20>,\n",
       "        <matplotlib.axes._subplots.AxesSubplot object at 0x000001D6359930F0>]],\n",
       "      dtype=object)"
      ]
     },
     "execution_count": 4,
     "metadata": {},
     "output_type": "execute_result"
    },
    {
     "data": {
      "image/png": "[encoded data removed]",
      "text/plain": [
       "<Figure size 1152x1440 with 49 Axes>"
      ]
     },
     "metadata": {
      "needs_background": "light"
     },
     "output_type": "display_data"
    }
   ],
   "source": [
    "modelar.hist(figsize=(16, 20), bins=50, xlabelsize=8, ylabelsize=8)"
   ]
  },
  {
   "cell_type": "code",
   "execution_count": 4,
   "metadata": {},
   "outputs": [
    {
     "data": {
      "text/plain": [
       "<matplotlib.axes._subplots.AxesSubplot at 0x1eec8c43ba8>"
      ]
     },
     "execution_count": 4,
     "metadata": {},
     "output_type": "execute_result"
    },
    {
     "data": {
      "image/png": "[encoded data removed]",
      "text/plain": [
       "<Figure size 432x288 with 1 Axes>"
      ]
     },
     "metadata": {
      "needs_background": "light"
     },
     "output_type": "display_data"
    }
   ],
   "source": [
    "modelar['TARGET'].hist(bins = 60)"
   ]
  },
  {
   "cell_type": "code",
   "execution_count": 21,
   "metadata": {},
   "outputs": [
    {
     "data": {
      "text/html": [
       "<div>\n",
       "<style scoped>\n",
       "    .dataframe tbody tr th:only-of-type {\n",
       "        vertical-align: middle;\n",
       "    }\n",
       "\n",
       "    .dataframe tbody tr th {\n",
       "        vertical-align: top;\n",
       "    }\n",
       "\n",
       "    .dataframe thead th {\n",
       "        text-align: right;\n",
       "    }\n",
       "</style>\n",
       "<table border=\"1\" class=\"dataframe\">\n",
       "  <thead>\n",
       "    <tr style=\"text-align: right;\">\n",
       "      <th></th>\n",
       "      <th>HY_id</th>\n",
       "      <th>HY_cod_postal</th>\n",
       "      <th>HY_provincia</th>\n",
       "      <th>HY_descripcion</th>\n",
       "      <th>HY_distribucion</th>\n",
       "      <th>HY_tipo</th>\n",
       "      <th>HY_antiguedad</th>\n",
       "      <th>HY_metros_utiles</th>\n",
       "      <th>HY_metros_totales</th>\n",
       "      <th>HY_num_banos</th>\n",
       "      <th>...</th>\n",
       "      <th>IDEA_unitprice_rent_residential</th>\n",
       "      <th>IDEA_price_rent_residential</th>\n",
       "      <th>IDEA_stock_rent_residential</th>\n",
       "      <th>IDEA_demand_rent_residential</th>\n",
       "      <th>GA_page_views</th>\n",
       "      <th>GA_mean_bounce</th>\n",
       "      <th>GA_exit_rate</th>\n",
       "      <th>GA_quincena_ini</th>\n",
       "      <th>GA_quincena_ult</th>\n",
       "      <th>TARGET</th>\n",
       "    </tr>\n",
       "  </thead>\n",
       "  <tbody>\n",
       "    <tr>\n",
       "      <th>1395</th>\n",
       "      <td>6035128</td>\n",
       "      <td>12006</td>\n",
       "      <td>Castellón</td>\n",
       "      <td>Parcela de tipo suelo urbano de forma irregula...</td>\n",
       "      <td>NaN</td>\n",
       "      <td>Solar</td>\n",
       "      <td>NaN</td>\n",
       "      <td>NaN</td>\n",
       "      <td>99999.0</td>\n",
       "      <td>0</td>\n",
       "      <td>...</td>\n",
       "      <td>4.71</td>\n",
       "      <td>633.69</td>\n",
       "      <td>78.0</td>\n",
       "      <td>52.10</td>\n",
       "      <td>689</td>\n",
       "      <td>30.35</td>\n",
       "      <td>23.28</td>\n",
       "      <td>1</td>\n",
       "      <td>47</td>\n",
       "      <td>188.14</td>\n",
       "    </tr>\n",
       "    <tr>\n",
       "      <th>2922</th>\n",
       "      <td>6042341</td>\n",
       "      <td>4117</td>\n",
       "      <td>Almería</td>\n",
       "      <td>Parcela de terreno edificable, ubicada en el m...</td>\n",
       "      <td>NaN</td>\n",
       "      <td>Solar</td>\n",
       "      <td>NaN</td>\n",
       "      <td>NaN</td>\n",
       "      <td>14556.0</td>\n",
       "      <td>0</td>\n",
       "      <td>...</td>\n",
       "      <td>4.58</td>\n",
       "      <td>372.50</td>\n",
       "      <td>9.0</td>\n",
       "      <td>51.01</td>\n",
       "      <td>323</td>\n",
       "      <td>31.13</td>\n",
       "      <td>26.11</td>\n",
       "      <td>1</td>\n",
       "      <td>46</td>\n",
       "      <td>108.92</td>\n",
       "    </tr>\n",
       "    <tr>\n",
       "      <th>2923</th>\n",
       "      <td>6042342</td>\n",
       "      <td>4117</td>\n",
       "      <td>Almería</td>\n",
       "      <td>Parcela de terreno edificable, ubicada en el m...</td>\n",
       "      <td>NaN</td>\n",
       "      <td>Solar</td>\n",
       "      <td>NaN</td>\n",
       "      <td>NaN</td>\n",
       "      <td>12976.0</td>\n",
       "      <td>0</td>\n",
       "      <td>...</td>\n",
       "      <td>9.88</td>\n",
       "      <td>1414.29</td>\n",
       "      <td>15.0</td>\n",
       "      <td>50.25</td>\n",
       "      <td>33</td>\n",
       "      <td>0.00</td>\n",
       "      <td>4.29</td>\n",
       "      <td>1</td>\n",
       "      <td>44</td>\n",
       "      <td>156.05</td>\n",
       "    </tr>\n",
       "    <tr>\n",
       "      <th>3617</th>\n",
       "      <td>6079546</td>\n",
       "      <td>46901</td>\n",
       "      <td>Valencia</td>\n",
       "      <td>Suelo rústico de uso agrario situado en el Pol...</td>\n",
       "      <td>NaN</td>\n",
       "      <td>Solar</td>\n",
       "      <td>NaN</td>\n",
       "      <td>NaN</td>\n",
       "      <td>108849.0</td>\n",
       "      <td>0</td>\n",
       "      <td>...</td>\n",
       "      <td>6.04</td>\n",
       "      <td>1251.80</td>\n",
       "      <td>120.0</td>\n",
       "      <td>50.64</td>\n",
       "      <td>541</td>\n",
       "      <td>41.19</td>\n",
       "      <td>27.86</td>\n",
       "      <td>1</td>\n",
       "      <td>47</td>\n",
       "      <td>107.68</td>\n",
       "    </tr>\n",
       "    <tr>\n",
       "      <th>3824</th>\n",
       "      <td>6082833</td>\n",
       "      <td>30880</td>\n",
       "      <td>Murcia</td>\n",
       "      <td>Suelo Rústico compuesto de dos parcelas, situa...</td>\n",
       "      <td>NaN</td>\n",
       "      <td>Solar</td>\n",
       "      <td>NaN</td>\n",
       "      <td>NaN</td>\n",
       "      <td>57995.0</td>\n",
       "      <td>0</td>\n",
       "      <td>...</td>\n",
       "      <td>7.75</td>\n",
       "      <td>1050.00</td>\n",
       "      <td>6.0</td>\n",
       "      <td>50.00</td>\n",
       "      <td>804</td>\n",
       "      <td>35.78</td>\n",
       "      <td>22.78</td>\n",
       "      <td>1</td>\n",
       "      <td>46</td>\n",
       "      <td>137.95</td>\n",
       "    </tr>\n",
       "  </tbody>\n",
       "</table>\n",
       "<p>5 rows × 53 columns</p>\n",
       "</div>"
      ],
      "text/plain": [
       "        HY_id  HY_cod_postal HY_provincia  \\\n",
       "1395  6035128          12006    Castellón   \n",
       "2922  6042341           4117      Almería   \n",
       "2923  6042342           4117      Almería   \n",
       "3617  6079546          46901     Valencia   \n",
       "3824  6082833          30880       Murcia   \n",
       "\n",
       "                                         HY_descripcion HY_distribucion  \\\n",
       "1395  Parcela de tipo suelo urbano de forma irregula...             NaN   \n",
       "2922  Parcela de terreno edificable, ubicada en el m...             NaN   \n",
       "2923  Parcela de terreno edificable, ubicada en el m...             NaN   \n",
       "3617  Suelo rústico de uso agrario situado en el Pol...             NaN   \n",
       "3824  Suelo Rústico compuesto de dos parcelas, situa...             NaN   \n",
       "\n",
       "     HY_tipo  HY_antiguedad  HY_metros_utiles  HY_metros_totales  \\\n",
       "1395   Solar            NaN               NaN            99999.0   \n",
       "2922   Solar            NaN               NaN            14556.0   \n",
       "2923   Solar            NaN               NaN            12976.0   \n",
       "3617   Solar            NaN               NaN           108849.0   \n",
       "3824   Solar            NaN               NaN            57995.0   \n",
       "\n",
       "      HY_num_banos   ...   IDEA_unitprice_rent_residential  \\\n",
       "1395             0   ...                              4.71   \n",
       "2922             0   ...                              4.58   \n",
       "2923             0   ...                              9.88   \n",
       "3617             0   ...                              6.04   \n",
       "3824             0   ...                              7.75   \n",
       "\n",
       "      IDEA_price_rent_residential  IDEA_stock_rent_residential  \\\n",
       "1395                       633.69                         78.0   \n",
       "2922                       372.50                          9.0   \n",
       "2923                      1414.29                         15.0   \n",
       "3617                      1251.80                        120.0   \n",
       "3824                      1050.00                          6.0   \n",
       "\n",
       "      IDEA_demand_rent_residential  GA_page_views  GA_mean_bounce  \\\n",
       "1395                         52.10            689           30.35   \n",
       "2922                         51.01            323           31.13   \n",
       "2923                         50.25             33            0.00   \n",
       "3617                         50.64            541           41.19   \n",
       "3824                         50.00            804           35.78   \n",
       "\n",
       "      GA_exit_rate  GA_quincena_ini  GA_quincena_ult  TARGET  \n",
       "1395         23.28                1               47  188.14  \n",
       "2922         26.11                1               46  108.92  \n",
       "2923          4.29                1               44  156.05  \n",
       "3617         27.86                1               47  107.68  \n",
       "3824         22.78                1               46  137.95  \n",
       "\n",
       "[5 rows x 53 columns]"
      ]
     },
     "execution_count": 21,
     "metadata": {},
     "output_type": "execute_result"
    }
   ],
   "source": [
    "modelar.loc[modelar['HY_metros_totales']>10000].head()"
   ]
  },
  {
   "cell_type": "code",
   "execution_count": 20,
   "metadata": {},
   "outputs": [
    {
     "data": {
      "text/html": [
       "<div>\n",
       "<style scoped>\n",
       "    .dataframe tbody tr th:only-of-type {\n",
       "        vertical-align: middle;\n",
       "    }\n",
       "\n",
       "    .dataframe tbody tr th {\n",
       "        vertical-align: top;\n",
       "    }\n",
       "\n",
       "    .dataframe thead th {\n",
       "        text-align: right;\n",
       "    }\n",
       "</style>\n",
       "<table border=\"1\" class=\"dataframe\">\n",
       "  <thead>\n",
       "    <tr style=\"text-align: right;\">\n",
       "      <th></th>\n",
       "      <th>GA_quincena_ini</th>\n",
       "      <th>GA_quincena_ult</th>\n",
       "    </tr>\n",
       "  </thead>\n",
       "  <tbody>\n",
       "    <tr>\n",
       "      <th>0</th>\n",
       "      <td>2</td>\n",
       "      <td>46</td>\n",
       "    </tr>\n",
       "    <tr>\n",
       "      <th>1</th>\n",
       "      <td>1</td>\n",
       "      <td>47</td>\n",
       "    </tr>\n",
       "    <tr>\n",
       "      <th>2</th>\n",
       "      <td>1</td>\n",
       "      <td>47</td>\n",
       "    </tr>\n",
       "    <tr>\n",
       "      <th>3</th>\n",
       "      <td>2</td>\n",
       "      <td>47</td>\n",
       "    </tr>\n",
       "    <tr>\n",
       "      <th>4</th>\n",
       "      <td>2</td>\n",
       "      <td>39</td>\n",
       "    </tr>\n",
       "  </tbody>\n",
       "</table>\n",
       "</div>"
      ],
      "text/plain": [
       "   GA_quincena_ini  GA_quincena_ult\n",
       "0                2               46\n",
       "1                1               47\n",
       "2                1               47\n",
       "3                2               47\n",
       "4                2               39"
      ]
     },
     "execution_count": 20,
     "metadata": {},
     "output_type": "execute_result"
    }
   ],
   "source": [
    "modelar[['GA_quincena_ini', 'GA_quincena_ult']].head()"
   ]
  },
  {
   "cell_type": "code",
   "execution_count": 19,
   "metadata": {},
   "outputs": [
    {
     "data": {
      "text/html": [
       "<div>\n",
       "<style scoped>\n",
       "    .dataframe tbody tr th:only-of-type {\n",
       "        vertical-align: middle;\n",
       "    }\n",
       "\n",
       "    .dataframe tbody tr th {\n",
       "        vertical-align: top;\n",
       "    }\n",
       "\n",
       "    .dataframe thead th {\n",
       "        text-align: right;\n",
       "    }\n",
       "</style>\n",
       "<table border=\"1\" class=\"dataframe\">\n",
       "  <thead>\n",
       "    <tr style=\"text-align: right;\">\n",
       "      <th></th>\n",
       "      <th>HY_id</th>\n",
       "      <th>HY_cod_postal</th>\n",
       "      <th>HY_provincia</th>\n",
       "      <th>HY_descripcion</th>\n",
       "      <th>HY_distribucion</th>\n",
       "      <th>HY_tipo</th>\n",
       "      <th>HY_antiguedad</th>\n",
       "      <th>HY_metros_utiles</th>\n",
       "      <th>HY_metros_totales</th>\n",
       "      <th>HY_num_banos</th>\n",
       "      <th>...</th>\n",
       "      <th>IDEA_unitprice_rent_residential</th>\n",
       "      <th>IDEA_price_rent_residential</th>\n",
       "      <th>IDEA_stock_rent_residential</th>\n",
       "      <th>IDEA_demand_rent_residential</th>\n",
       "      <th>GA_page_views</th>\n",
       "      <th>GA_mean_bounce</th>\n",
       "      <th>GA_exit_rate</th>\n",
       "      <th>GA_quincena_ini</th>\n",
       "      <th>GA_quincena_ult</th>\n",
       "      <th>TARGET</th>\n",
       "    </tr>\n",
       "  </thead>\n",
       "  <tbody>\n",
       "    <tr>\n",
       "      <th>4429</th>\n",
       "      <td>6037826</td>\n",
       "      <td>8202</td>\n",
       "      <td>Barcelona</td>\n",
       "      <td>Local comercial en esquina integrado en dos ed...</td>\n",
       "      <td>Cuenta con una superficie total de 1076, 64 m²...</td>\n",
       "      <td>Local</td>\n",
       "      <td>1960.0</td>\n",
       "      <td>NaN</td>\n",
       "      <td>2118.53</td>\n",
       "      <td>0</td>\n",
       "      <td>...</td>\n",
       "      <td>7.29</td>\n",
       "      <td>1030.00</td>\n",
       "      <td>174.0</td>\n",
       "      <td>52.45</td>\n",
       "      <td>153</td>\n",
       "      <td>50.31</td>\n",
       "      <td>50.87</td>\n",
       "      <td>11</td>\n",
       "      <td>47</td>\n",
       "      <td>145.57</td>\n",
       "    </tr>\n",
       "    <tr>\n",
       "      <th>4437</th>\n",
       "      <td>6038463</td>\n",
       "      <td>4001</td>\n",
       "      <td>Almería</td>\n",
       "      <td>NaN</td>\n",
       "      <td>NaN</td>\n",
       "      <td>Local</td>\n",
       "      <td>NaN</td>\n",
       "      <td>0.0</td>\n",
       "      <td>385.07</td>\n",
       "      <td>0</td>\n",
       "      <td>...</td>\n",
       "      <td>NaN</td>\n",
       "      <td>NaN</td>\n",
       "      <td>NaN</td>\n",
       "      <td>NaN</td>\n",
       "      <td>99</td>\n",
       "      <td>30.00</td>\n",
       "      <td>22.20</td>\n",
       "      <td>39</td>\n",
       "      <td>47</td>\n",
       "      <td>50.10</td>\n",
       "    </tr>\n",
       "    <tr>\n",
       "      <th>4543</th>\n",
       "      <td>6075912</td>\n",
       "      <td>29730</td>\n",
       "      <td>Málaga</td>\n",
       "      <td>NaN</td>\n",
       "      <td>NaN</td>\n",
       "      <td>Solar</td>\n",
       "      <td>NaN</td>\n",
       "      <td>0.0</td>\n",
       "      <td>10000.00</td>\n",
       "      <td>0</td>\n",
       "      <td>...</td>\n",
       "      <td>NaN</td>\n",
       "      <td>NaN</td>\n",
       "      <td>NaN</td>\n",
       "      <td>NaN</td>\n",
       "      <td>15</td>\n",
       "      <td>45.83</td>\n",
       "      <td>51.19</td>\n",
       "      <td>33</td>\n",
       "      <td>45</td>\n",
       "      <td>88.42</td>\n",
       "    </tr>\n",
       "    <tr>\n",
       "      <th>6344</th>\n",
       "      <td>6033399</td>\n",
       "      <td>4630</td>\n",
       "      <td>Almería</td>\n",
       "      <td>Terrenos urbanos en el Paraje La Espesura. Tie...</td>\n",
       "      <td>Terreno de superficie registral: 269.116 m².\\r...</td>\n",
       "      <td>Solar</td>\n",
       "      <td>NaN</td>\n",
       "      <td>NaN</td>\n",
       "      <td>269116.00</td>\n",
       "      <td>0</td>\n",
       "      <td>...</td>\n",
       "      <td>4.54</td>\n",
       "      <td>444.62</td>\n",
       "      <td>54.0</td>\n",
       "      <td>51.70</td>\n",
       "      <td>426</td>\n",
       "      <td>22.22</td>\n",
       "      <td>17.42</td>\n",
       "      <td>1</td>\n",
       "      <td>47</td>\n",
       "      <td>97.46</td>\n",
       "    </tr>\n",
       "    <tr>\n",
       "      <th>8566</th>\n",
       "      <td>6811795</td>\n",
       "      <td>4007</td>\n",
       "      <td>Almería</td>\n",
       "      <td>NaN</td>\n",
       "      <td>NaN</td>\n",
       "      <td>Local</td>\n",
       "      <td>NaN</td>\n",
       "      <td>2200.0</td>\n",
       "      <td>2300.50</td>\n",
       "      <td>0</td>\n",
       "      <td>...</td>\n",
       "      <td>NaN</td>\n",
       "      <td>NaN</td>\n",
       "      <td>NaN</td>\n",
       "      <td>NaN</td>\n",
       "      <td>15</td>\n",
       "      <td>66.67</td>\n",
       "      <td>78.33</td>\n",
       "      <td>30</td>\n",
       "      <td>46</td>\n",
       "      <td>46.71</td>\n",
       "    </tr>\n",
       "    <tr>\n",
       "      <th>9124</th>\n",
       "      <td>6940987</td>\n",
       "      <td>46980</td>\n",
       "      <td>Valencia</td>\n",
       "      <td>NaN</td>\n",
       "      <td>NaN</td>\n",
       "      <td>Solar</td>\n",
       "      <td>NaN</td>\n",
       "      <td>2538.0</td>\n",
       "      <td>2538.00</td>\n",
       "      <td>0</td>\n",
       "      <td>...</td>\n",
       "      <td>4.29</td>\n",
       "      <td>451.88</td>\n",
       "      <td>72.0</td>\n",
       "      <td>51.84</td>\n",
       "      <td>29</td>\n",
       "      <td>16.67</td>\n",
       "      <td>24.17</td>\n",
       "      <td>38</td>\n",
       "      <td>47</td>\n",
       "      <td>38.72</td>\n",
       "    </tr>\n",
       "    <tr>\n",
       "      <th>9219</th>\n",
       "      <td>6946638</td>\n",
       "      <td>12520</td>\n",
       "      <td>Castellón</td>\n",
       "      <td>NaN</td>\n",
       "      <td>NaN</td>\n",
       "      <td>Solar</td>\n",
       "      <td>NaN</td>\n",
       "      <td>4226.0</td>\n",
       "      <td>4226.00</td>\n",
       "      <td>0</td>\n",
       "      <td>...</td>\n",
       "      <td>3.97</td>\n",
       "      <td>524.14</td>\n",
       "      <td>75.0</td>\n",
       "      <td>51.68</td>\n",
       "      <td>10</td>\n",
       "      <td>33.33</td>\n",
       "      <td>33.33</td>\n",
       "      <td>35</td>\n",
       "      <td>46</td>\n",
       "      <td>170.18</td>\n",
       "    </tr>\n",
       "    <tr>\n",
       "      <th>9711</th>\n",
       "      <td>7008680</td>\n",
       "      <td>50270</td>\n",
       "      <td>Zaragoza</td>\n",
       "      <td>NaN</td>\n",
       "      <td>NaN</td>\n",
       "      <td>Solar</td>\n",
       "      <td>NaN</td>\n",
       "      <td>1820000.0</td>\n",
       "      <td>1820000.00</td>\n",
       "      <td>0</td>\n",
       "      <td>...</td>\n",
       "      <td>3.98</td>\n",
       "      <td>331.08</td>\n",
       "      <td>9.0</td>\n",
       "      <td>51.10</td>\n",
       "      <td>27</td>\n",
       "      <td>22.50</td>\n",
       "      <td>13.89</td>\n",
       "      <td>39</td>\n",
       "      <td>42</td>\n",
       "      <td>166.80</td>\n",
       "    </tr>\n",
       "  </tbody>\n",
       "</table>\n",
       "<p>8 rows × 53 columns</p>\n",
       "</div>"
      ],
      "text/plain": [
       "        HY_id  HY_cod_postal HY_provincia  \\\n",
       "4429  6037826           8202    Barcelona   \n",
       "4437  6038463           4001      Almería   \n",
       "4543  6075912          29730       Málaga   \n",
       "6344  6033399           4630      Almería   \n",
       "8566  6811795           4007      Almería   \n",
       "9124  6940987          46980     Valencia   \n",
       "9219  6946638          12520    Castellón   \n",
       "9711  7008680          50270     Zaragoza   \n",
       "\n",
       "                                         HY_descripcion  \\\n",
       "4429  Local comercial en esquina integrado en dos ed...   \n",
       "4437                                                NaN   \n",
       "4543                                                NaN   \n",
       "6344  Terrenos urbanos en el Paraje La Espesura. Tie...   \n",
       "8566                                                NaN   \n",
       "9124                                                NaN   \n",
       "9219                                                NaN   \n",
       "9711                                                NaN   \n",
       "\n",
       "                                        HY_distribucion HY_tipo  \\\n",
       "4429  Cuenta con una superficie total de 1076, 64 m²...   Local   \n",
       "4437                                                NaN   Local   \n",
       "4543                                                NaN   Solar   \n",
       "6344  Terreno de superficie registral: 269.116 m².\\r...   Solar   \n",
       "8566                                                NaN   Local   \n",
       "9124                                                NaN   Solar   \n",
       "9219                                                NaN   Solar   \n",
       "9711                                                NaN   Solar   \n",
       "\n",
       "      HY_antiguedad  HY_metros_utiles  HY_metros_totales  HY_num_banos  \\\n",
       "4429         1960.0               NaN            2118.53             0   \n",
       "4437            NaN               0.0             385.07             0   \n",
       "4543            NaN               0.0           10000.00             0   \n",
       "6344            NaN               NaN          269116.00             0   \n",
       "8566            NaN            2200.0            2300.50             0   \n",
       "9124            NaN            2538.0            2538.00             0   \n",
       "9219            NaN            4226.0            4226.00             0   \n",
       "9711            NaN         1820000.0         1820000.00             0   \n",
       "\n",
       "       ...   IDEA_unitprice_rent_residential  IDEA_price_rent_residential  \\\n",
       "4429   ...                              7.29                      1030.00   \n",
       "4437   ...                               NaN                          NaN   \n",
       "4543   ...                               NaN                          NaN   \n",
       "6344   ...                              4.54                       444.62   \n",
       "8566   ...                               NaN                          NaN   \n",
       "9124   ...                              4.29                       451.88   \n",
       "9219   ...                              3.97                       524.14   \n",
       "9711   ...                              3.98                       331.08   \n",
       "\n",
       "      IDEA_stock_rent_residential  IDEA_demand_rent_residential  \\\n",
       "4429                        174.0                         52.45   \n",
       "4437                          NaN                           NaN   \n",
       "4543                          NaN                           NaN   \n",
       "6344                         54.0                         51.70   \n",
       "8566                          NaN                           NaN   \n",
       "9124                         72.0                         51.84   \n",
       "9219                         75.0                         51.68   \n",
       "9711                          9.0                         51.10   \n",
       "\n",
       "      GA_page_views  GA_mean_bounce  GA_exit_rate  GA_quincena_ini  \\\n",
       "4429            153           50.31         50.87               11   \n",
       "4437             99           30.00         22.20               39   \n",
       "4543             15           45.83         51.19               33   \n",
       "6344            426           22.22         17.42                1   \n",
       "8566             15           66.67         78.33               30   \n",
       "9124             29           16.67         24.17               38   \n",
       "9219             10           33.33         33.33               35   \n",
       "9711             27           22.50         13.89               39   \n",
       "\n",
       "      GA_quincena_ult  TARGET  \n",
       "4429               47  145.57  \n",
       "4437               47   50.10  \n",
       "4543               45   88.42  \n",
       "6344               47   97.46  \n",
       "8566               46   46.71  \n",
       "9124               47   38.72  \n",
       "9219               46  170.18  \n",
       "9711               42  166.80  \n",
       "\n",
       "[8 rows x 53 columns]"
      ]
     },
     "execution_count": 19,
     "metadata": {},
     "output_type": "execute_result"
    }
   ],
   "source": [
    "modelar.loc[modelar['HY_precio']>2000000]"
   ]
  },
  {
   "cell_type": "code",
   "execution_count": 35,
   "metadata": {},
   "outputs": [
    {
     "data": {
      "text/plain": [
       "<matplotlib.axes._subplots.AxesSubplot at 0x1d63a4ce6d8>"
      ]
     },
     "execution_count": 35,
     "metadata": {},
     "output_type": "execute_result"
    },
    {
     "data": {
      "image/png": "[encoded data removed]",
      "text/plain": [
       "<Figure size 432x288 with 1 Axes>"
      ]
     },
     "metadata": {
      "needs_background": "light"
     },
     "output_type": "display_data"
    }
   ],
   "source": [
    "sns.boxplot(data = modelar[['HY_cert_energ', 'TARGET']], x = 'HY_cert_energ', y = 'TARGET')"
   ]
  },
  {
   "cell_type": "markdown",
   "metadata": {},
   "source": [
    "#### Certificado energético"
   ]
  },
  {
   "cell_type": "code",
   "execution_count": 32,
   "metadata": {},
   "outputs": [
    {
     "data": {
      "text/plain": [
       "array([nan, 'F', 'E', 'G', 'D', 'C'], dtype=object)"
      ]
     },
     "execution_count": 32,
     "metadata": {},
     "output_type": "execute_result"
    }
   ],
   "source": [
    "modelar['HY_cert_energ'].unique()"
   ]
  },
  {
   "cell_type": "code",
   "execution_count": 37,
   "metadata": {},
   "outputs": [
    {
     "data": {
      "text/plain": [
       "<matplotlib.axes._subplots.AxesSubplot at 0x1d63a593e48>"
      ]
     },
     "execution_count": 37,
     "metadata": {},
     "output_type": "execute_result"
    },
    {
     "data": {
      "image/png": "[encoded data removed]",
      "text/plain": [
       "<Figure size 432x288 with 1 Axes>"
      ]
     },
     "metadata": {
      "needs_background": "light"
     },
     "output_type": "display_data"
    }
   ],
   "source": [
    "sns.boxplot(data = modelar[['HY_ascensor', 'TARGET']], x = 'HY_ascensor', y = 'TARGET')"
   ]
  },
  {
   "cell_type": "markdown",
   "metadata": {},
   "source": [
    "#### Poblacion, densidad"
   ]
  },
  {
   "cell_type": "code",
   "execution_count": 41,
   "metadata": {},
   "outputs": [
    {
     "data": {
      "text/plain": [
       "<matplotlib.axes._subplots.AxesSubplot at 0x1d63a5655c0>"
      ]
     },
     "execution_count": 41,
     "metadata": {},
     "output_type": "execute_result"
    },
    {
     "data": {
      "image/png": "[encoded data removed]",
      "text/plain": [
       "<Figure size 432x288 with 1 Axes>"
      ]
     },
     "metadata": {
      "needs_background": "light"
     },
     "output_type": "display_data"
    }
   ],
   "source": [
    "modelar[['IDEA_densidad', 'TARGET']].plot(x = 'IDEA_densidad', y = 'TARGET', kind = 'scatter')"
   ]
  },
  {
   "cell_type": "code",
   "execution_count": 59,
   "metadata": {},
   "outputs": [],
   "source": [
    "from sklearn.feature_selection import mutual_info_classif as MIc\n",
    "from sklearn.feature_selection import mutual_info_regression as MIr"
   ]
  },
  {
   "cell_type": "code",
   "execution_count": 54,
   "metadata": {},
   "outputs": [
    {
     "data": {
      "text/plain": [
       "True"
      ]
     },
     "execution_count": 54,
     "metadata": {},
     "output_type": "execute_result"
    }
   ],
   "source": [
    "modelar['IDEA_densidad'].dtype=='float64'"
   ]
  },
  {
   "cell_type": "code",
   "execution_count": 68,
   "metadata": {},
   "outputs": [],
   "source": [
    "def MI(dataX,y):"
   ]
  },
  {
   "cell_type": "code",
   "execution_count": 67,
   "metadata": {},
   "outputs": [
    {
     "ename": "ValueError",
     "evalue": "Input contains NaN, infinity or a value too large for dtype('float64').",
     "output_type": "error",
     "traceback": [
      "\u001b[1;31m---------------------------------------------------------------------------\u001b[0m",
      "\u001b[1;31mValueError\u001b[0m                                Traceback (most recent call last)",
      "\u001b[1;32m<ipython-input-64-fe526ae85484>\u001b[0m in \u001b[0;36mMI\u001b[1;34m(x, y)\u001b[0m\n\u001b[0;32m      2\u001b[0m     \u001b[1;32mtry\u001b[0m\u001b[1;33m:\u001b[0m\u001b[1;33m\u001b[0m\u001b[0m\n\u001b[1;32m----> 3\u001b[1;33m         \u001b[0mmi\u001b[0m \u001b[1;33m=\u001b[0m \u001b[0mMIc\u001b[0m\u001b[1;33m(\u001b[0m\u001b[0mX\u001b[0m \u001b[1;33m=\u001b[0m \u001b[0mx\u001b[0m\u001b[1;33m.\u001b[0m\u001b[0mvalues\u001b[0m\u001b[1;33m,\u001b[0m \u001b[0my\u001b[0m \u001b[1;33m=\u001b[0m \u001b[0my\u001b[0m\u001b[1;33m.\u001b[0m\u001b[0mvalues\u001b[0m\u001b[1;33m)\u001b[0m\u001b[1;33m\u001b[0m\u001b[0m\n\u001b[0m\u001b[0;32m      4\u001b[0m         \u001b[1;32mreturn\u001b[0m\u001b[1;33m(\u001b[0m\u001b[0mmi\u001b[0m\u001b[1;33m)\u001b[0m\u001b[1;33m\u001b[0m\u001b[0m\n",
      "\u001b[1;32mC:\\ProgramData\\Anaconda3\\lib\\site-packages\\sklearn\\feature_selection\\mutual_info_.py\u001b[0m in \u001b[0;36mmutual_info_classif\u001b[1;34m(X, y, discrete_features, n_neighbors, copy, random_state)\u001b[0m\n\u001b[0;32m    447\u001b[0m     \"\"\"\n\u001b[1;32m--> 448\u001b[1;33m     \u001b[0mcheck_classification_targets\u001b[0m\u001b[1;33m(\u001b[0m\u001b[0my\u001b[0m\u001b[1;33m)\u001b[0m\u001b[1;33m\u001b[0m\u001b[0m\n\u001b[0m\u001b[0;32m    449\u001b[0m     return _estimate_mi(X, y, discrete_features, True, n_neighbors,\n",
      "\u001b[1;32mC:\\ProgramData\\Anaconda3\\lib\\site-packages\\sklearn\\utils\\multiclass.py\u001b[0m in \u001b[0;36mcheck_classification_targets\u001b[1;34m(y)\u001b[0m\n\u001b[0;32m    170\u001b[0m                       'multilabel-indicator', 'multilabel-sequences']:\n\u001b[1;32m--> 171\u001b[1;33m         \u001b[1;32mraise\u001b[0m \u001b[0mValueError\u001b[0m\u001b[1;33m(\u001b[0m\u001b[1;34m\"Unknown label type: %r\"\u001b[0m \u001b[1;33m%\u001b[0m \u001b[0my_type\u001b[0m\u001b[1;33m)\u001b[0m\u001b[1;33m\u001b[0m\u001b[0m\n\u001b[0m\u001b[0;32m    172\u001b[0m \u001b[1;33m\u001b[0m\u001b[0m\n",
      "\u001b[1;31mValueError\u001b[0m: Unknown label type: 'continuous'",
      "\nDuring handling of the above exception, another exception occurred:\n",
      "\u001b[1;31mValueError\u001b[0m                                Traceback (most recent call last)",
      "\u001b[1;32m<ipython-input-67-49949fc935d8>\u001b[0m in \u001b[0;36m<module>\u001b[1;34m()\u001b[0m\n\u001b[1;32m----> 1\u001b[1;33m \u001b[0mMI\u001b[0m\u001b[1;33m(\u001b[0m\u001b[0mmodelar\u001b[0m\u001b[1;33m[\u001b[0m\u001b[1;33m[\u001b[0m\u001b[1;34m'IDEA_densidad'\u001b[0m\u001b[1;33m,\u001b[0m \u001b[1;34m'TARGET'\u001b[0m\u001b[1;33m]\u001b[0m\u001b[1;33m]\u001b[0m\u001b[1;33m,\u001b[0m \u001b[0mmodelar\u001b[0m\u001b[1;33m[\u001b[0m\u001b[1;34m'TARGET'\u001b[0m\u001b[1;33m]\u001b[0m\u001b[1;33m)\u001b[0m\u001b[1;33m\u001b[0m\u001b[0m\n\u001b[0m",
      "\u001b[1;32m<ipython-input-64-fe526ae85484>\u001b[0m in \u001b[0;36mMI\u001b[1;34m(x, y)\u001b[0m\n\u001b[0;32m      4\u001b[0m         \u001b[1;32mreturn\u001b[0m\u001b[1;33m(\u001b[0m\u001b[0mmi\u001b[0m\u001b[1;33m)\u001b[0m\u001b[1;33m\u001b[0m\u001b[0m\n\u001b[0;32m      5\u001b[0m     \u001b[1;32mexcept\u001b[0m\u001b[1;33m:\u001b[0m\u001b[1;33m\u001b[0m\u001b[0m\n\u001b[1;32m----> 6\u001b[1;33m         \u001b[0mmi\u001b[0m \u001b[1;33m=\u001b[0m \u001b[0mMIr\u001b[0m\u001b[1;33m(\u001b[0m\u001b[0mX\u001b[0m \u001b[1;33m=\u001b[0m \u001b[0mx\u001b[0m\u001b[1;33m.\u001b[0m\u001b[0mvalues\u001b[0m\u001b[1;33m,\u001b[0m \u001b[0my\u001b[0m \u001b[1;33m=\u001b[0m \u001b[0my\u001b[0m\u001b[1;33m.\u001b[0m\u001b[0mvalues\u001b[0m\u001b[1;33m)\u001b[0m\u001b[1;33m\u001b[0m\u001b[0m\n\u001b[0m\u001b[0;32m      7\u001b[0m         \u001b[1;32mreturn\u001b[0m\u001b[1;33m(\u001b[0m\u001b[0mmi\u001b[0m\u001b[1;33m)\u001b[0m\u001b[1;33m\u001b[0m\u001b[0m\n",
      "\u001b[1;32mC:\\ProgramData\\Anaconda3\\lib\\site-packages\\sklearn\\feature_selection\\mutual_info_.py\u001b[0m in \u001b[0;36mmutual_info_regression\u001b[1;34m(X, y, discrete_features, n_neighbors, copy, random_state)\u001b[0m\n\u001b[0;32m    368\u001b[0m     \"\"\"\n\u001b[0;32m    369\u001b[0m     return _estimate_mi(X, y, discrete_features, False, n_neighbors,\n\u001b[1;32m--> 370\u001b[1;33m                         copy, random_state)\n\u001b[0m\u001b[0;32m    371\u001b[0m \u001b[1;33m\u001b[0m\u001b[0m\n\u001b[0;32m    372\u001b[0m \u001b[1;33m\u001b[0m\u001b[0m\n",
      "\u001b[1;32mC:\\ProgramData\\Anaconda3\\lib\\site-packages\\sklearn\\feature_selection\\mutual_info_.py\u001b[0m in \u001b[0;36m_estimate_mi\u001b[1;34m(X, y, discrete_features, discrete_target, n_neighbors, copy, random_state)\u001b[0m\n\u001b[0;32m    246\u001b[0m            \u001b[0mData\u001b[0m \u001b[0mSets\u001b[0m\u001b[0;31m\"\u001b[0m\u001b[1;33m.\u001b[0m \u001b[0mPLoS\u001b[0m \u001b[0mONE\u001b[0m \u001b[1;36m9\u001b[0m\u001b[1;33m(\u001b[0m\u001b[1;36m2\u001b[0m\u001b[1;33m)\u001b[0m\u001b[1;33m,\u001b[0m \u001b[1;36m2014.\u001b[0m\u001b[1;33m\u001b[0m\u001b[0m\n\u001b[0;32m    247\u001b[0m     \"\"\"\n\u001b[1;32m--> 248\u001b[1;33m     \u001b[0mX\u001b[0m\u001b[1;33m,\u001b[0m \u001b[0my\u001b[0m \u001b[1;33m=\u001b[0m \u001b[0mcheck_X_y\u001b[0m\u001b[1;33m(\u001b[0m\u001b[0mX\u001b[0m\u001b[1;33m,\u001b[0m \u001b[0my\u001b[0m\u001b[1;33m,\u001b[0m \u001b[0maccept_sparse\u001b[0m\u001b[1;33m=\u001b[0m\u001b[1;34m'csc'\u001b[0m\u001b[1;33m,\u001b[0m \u001b[0my_numeric\u001b[0m\u001b[1;33m=\u001b[0m\u001b[1;32mnot\u001b[0m \u001b[0mdiscrete_target\u001b[0m\u001b[1;33m)\u001b[0m\u001b[1;33m\u001b[0m\u001b[0m\n\u001b[0m\u001b[0;32m    249\u001b[0m     \u001b[0mn_samples\u001b[0m\u001b[1;33m,\u001b[0m \u001b[0mn_features\u001b[0m \u001b[1;33m=\u001b[0m \u001b[0mX\u001b[0m\u001b[1;33m.\u001b[0m\u001b[0mshape\u001b[0m\u001b[1;33m\u001b[0m\u001b[0m\n\u001b[0;32m    250\u001b[0m \u001b[1;33m\u001b[0m\u001b[0m\n",
      "\u001b[1;32mC:\\ProgramData\\Anaconda3\\lib\\site-packages\\sklearn\\utils\\validation.py\u001b[0m in \u001b[0;36mcheck_X_y\u001b[1;34m(X, y, accept_sparse, dtype, order, copy, force_all_finite, ensure_2d, allow_nd, multi_output, ensure_min_samples, ensure_min_features, y_numeric, warn_on_dtype, estimator)\u001b[0m\n\u001b[0;32m    571\u001b[0m     X = check_array(X, accept_sparse, dtype, order, copy, force_all_finite,\n\u001b[0;32m    572\u001b[0m                     \u001b[0mensure_2d\u001b[0m\u001b[1;33m,\u001b[0m \u001b[0mallow_nd\u001b[0m\u001b[1;33m,\u001b[0m \u001b[0mensure_min_samples\u001b[0m\u001b[1;33m,\u001b[0m\u001b[1;33m\u001b[0m\u001b[0m\n\u001b[1;32m--> 573\u001b[1;33m                     ensure_min_features, warn_on_dtype, estimator)\n\u001b[0m\u001b[0;32m    574\u001b[0m     \u001b[1;32mif\u001b[0m \u001b[0mmulti_output\u001b[0m\u001b[1;33m:\u001b[0m\u001b[1;33m\u001b[0m\u001b[0m\n\u001b[0;32m    575\u001b[0m         y = check_array(y, 'csr', force_all_finite=True, ensure_2d=False,\n",
      "\u001b[1;32mC:\\ProgramData\\Anaconda3\\lib\\site-packages\\sklearn\\utils\\validation.py\u001b[0m in \u001b[0;36mcheck_array\u001b[1;34m(array, accept_sparse, dtype, order, copy, force_all_finite, ensure_2d, allow_nd, ensure_min_samples, ensure_min_features, warn_on_dtype, estimator)\u001b[0m\n\u001b[0;32m    451\u001b[0m                              % (array.ndim, estimator_name))\n\u001b[0;32m    452\u001b[0m         \u001b[1;32mif\u001b[0m \u001b[0mforce_all_finite\u001b[0m\u001b[1;33m:\u001b[0m\u001b[1;33m\u001b[0m\u001b[0m\n\u001b[1;32m--> 453\u001b[1;33m             \u001b[0m_assert_all_finite\u001b[0m\u001b[1;33m(\u001b[0m\u001b[0marray\u001b[0m\u001b[1;33m)\u001b[0m\u001b[1;33m\u001b[0m\u001b[0m\n\u001b[0m\u001b[0;32m    454\u001b[0m \u001b[1;33m\u001b[0m\u001b[0m\n\u001b[0;32m    455\u001b[0m     \u001b[0mshape_repr\u001b[0m \u001b[1;33m=\u001b[0m \u001b[0m_shape_repr\u001b[0m\u001b[1;33m(\u001b[0m\u001b[0marray\u001b[0m\u001b[1;33m.\u001b[0m\u001b[0mshape\u001b[0m\u001b[1;33m)\u001b[0m\u001b[1;33m\u001b[0m\u001b[0m\n",
      "\u001b[1;32mC:\\ProgramData\\Anaconda3\\lib\\site-packages\\sklearn\\utils\\validation.py\u001b[0m in \u001b[0;36m_assert_all_finite\u001b[1;34m(X)\u001b[0m\n\u001b[0;32m     42\u001b[0m             and not np.isfinite(X).all()):\n\u001b[0;32m     43\u001b[0m         raise ValueError(\"Input contains NaN, infinity\"\n\u001b[1;32m---> 44\u001b[1;33m                          \" or a value too large for %r.\" % X.dtype)\n\u001b[0m\u001b[0;32m     45\u001b[0m \u001b[1;33m\u001b[0m\u001b[0m\n\u001b[0;32m     46\u001b[0m \u001b[1;33m\u001b[0m\u001b[0m\n",
      "\u001b[1;31mValueError\u001b[0m: Input contains NaN, infinity or a value too large for dtype('float64')."
     ]
    }
   ],
   "source": [
    "MI(modelar[['IDEA_densidad', 'TARGET']], modelar['TARGET'])"
   ]
  },
  {
   "cell_type": "code",
   "execution_count": 77,
   "metadata": {},
   "outputs": [
    {
     "ename": "AttributeError",
     "evalue": "type object 'str' has no attribute 'len'",
     "output_type": "error",
     "traceback": [
      "\u001b[1;31m---------------------------------------------------------------------------\u001b[0m",
      "\u001b[1;31mAttributeError\u001b[0m                            Traceback (most recent call last)",
      "\u001b[1;32m<ipython-input-77-1a89b52337a5>\u001b[0m in \u001b[0;36m<module>\u001b[1;34m()\u001b[0m\n\u001b[1;32m----> 1\u001b[1;33m \u001b[0mmodelar\u001b[0m\u001b[1;33m[\u001b[0m\u001b[1;34m'HY_descripcion'\u001b[0m\u001b[1;33m]\u001b[0m\u001b[1;33m.\u001b[0m\u001b[0mmap\u001b[0m\u001b[1;33m(\u001b[0m\u001b[0mstr\u001b[0m\u001b[1;33m.\u001b[0m\u001b[0mlen\u001b[0m\u001b[1;33m)\u001b[0m\u001b[1;33m\u001b[0m\u001b[0m\n\u001b[0m",
      "\u001b[1;31mAttributeError\u001b[0m: type object 'str' has no attribute 'len'"
     ]
    }
   ],
   "source": [
    "modelar['GA_'].map(str.l)"
   ]
  },
  {
   "cell_type": "code",
   "execution_count": 81,
   "metadata": {},
   "outputs": [
    {
     "data": {
      "text/plain": [
       "<matplotlib.axes._subplots.AxesSubplot at 0x1d63c369da0>"
      ]
     },
     "execution_count": 81,
     "metadata": {},
     "output_type": "execute_result"
    },
    {
     "data": {
      "image/png": "[encoded data removed]",
      "text/plain": [
       "<Figure size 432x288 with 1 Axes>"
      ]
     },
     "metadata": {
      "needs_background": "light"
     },
     "output_type": "display_data"
    }
   ],
   "source": [
    "modelar[['GA_mean_bounce', 'TARGET']].plot(x = 'GA_mean_bounce',y = 'TARGET',kind = 'scatter')"
   ]
  },
  {
   "cell_type": "code",
   "execution_count": 82,
   "metadata": {},
   "outputs": [
    {
     "data": {
      "text/plain": [
       "<matplotlib.axes._subplots.AxesSubplot at 0x1d63c3c1160>"
      ]
     },
     "execution_count": 82,
     "metadata": {},
     "output_type": "execute_result"
    },
    {
     "data": {
      "image/png": "[encoded data removed]",
      "text/plain": [
       "<Figure size 432x288 with 1 Axes>"
      ]
     },
     "metadata": {
      "needs_background": "light"
     },
     "output_type": "display_data"
    }
   ],
   "source": [
    "modelar[['IDEA_demand_sale_residential', 'TARGET']].plot(x = 'IDEA_demand_sale_residential',y = 'TARGET',kind = 'scatter')"
   ]
  },
  {
   "cell_type": "code",
   "execution_count": 91,
   "metadata": {},
   "outputs": [
    {
     "data": {
      "text/plain": [
       "<matplotlib.axes._subplots.AxesSubplot at 0x1d63e090240>"
      ]
     },
     "execution_count": 91,
     "metadata": {},
     "output_type": "execute_result"
    },
    {
     "data": {
      "image/png": "[encoded data removed]",
      "text/plain": [
       "<Figure size 864x720 with 2 Axes>"
      ]
     },
     "metadata": {
      "needs_background": "light"
     },
     "output_type": "display_data"
    }
   ],
   "source": [
    "fig, ax = plt.subplots(figsize = (12, 10))\n",
    "corr_matrix = modelar.corr()\n",
    "mask = np.zeros_like(corr_matrix, dtype=np.bool)\n",
    "mask[np.triu_indices_from(mask)] = True\n",
    "sns.heatmap(corr_matrix, cmap = sns.diverging_palette(220, 10, as_cmap = True), mask = mask)"
   ]
  },
  {
   "cell_type": "code",
   "execution_count": 100,
   "metadata": {},
   "outputs": [],
   "source": [
    "y = modelar['TARGET']\n",
    "X = modelar.drop('TARGET', axis = 1)"
   ]
  },
  {
   "cell_type": "code",
   "execution_count": 101,
   "metadata": {},
   "outputs": [],
   "source": [
    "X_train, X_test, y_train, y_test = train_test_split(X, y, test_size=0.3, random_state=42)"
   ]
  },
  {
   "cell_type": "code",
   "execution_count": 92,
   "metadata": {},
   "outputs": [],
   "source": [
    "from sklearn.ensemble import RandomForestRegressor"
   ]
  },
  {
   "cell_type": "code",
   "execution_count": 93,
   "metadata": {},
   "outputs": [],
   "source": [
    "from sklearn.metrics import mean_absolute_error"
   ]
  },
  {
   "cell_type": "code",
   "execution_count": 94,
   "metadata": {},
   "outputs": [],
   "source": [
    "rf_model = RandomForestRegressor(random_state=1)"
   ]
  },
  {
   "cell_type": "code",
   "execution_count": null,
   "metadata": {},
   "outputs": [],
   "source": [
    "rf_model.fit(X_train, y_train)"
   ]
  },
  {
   "cell_type": "code",
   "execution_count": null,
   "metadata": {},
   "outputs": [],
   "source": [
    "val_"
   ]
  }
 ],
 "metadata": {
  "kernelspec": {
   "display_name": "Python 3",
   "language": "python",
   "name": "python3"
  },
  "language_info": {
   "codemirror_mode": {
    "name": "ipython",
    "version": 3
   },
   "file_extension": ".py",
   "mimetype": "text/x-python",
   "name": "python",
   "nbconvert_exporter": "python",
   "pygments_lexer": "ipython3",
   "version": "3.7.0"
  }
 },
 "nbformat": 4,
 "nbformat_minor": 2
}
