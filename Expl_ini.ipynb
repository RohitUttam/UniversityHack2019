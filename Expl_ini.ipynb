{
 "cells": [
  {
   "cell_type": "markdown",
   "metadata": {},
   "source": [
    "# 1. Import libraries"
   ]
  },
  {
   "cell_type": "code",
   "execution_count": 1,
   "metadata": {},
   "outputs": [],
   "source": [
    "import pandas as pd\n",
    "import numpy as np\n",
    "import seaborn as sns\n",
    "import matplotlib.pyplot as plt"
   ]
  },
  {
   "cell_type": "code",
   "execution_count": 2,
   "metadata": {},
   "outputs": [
    {
     "name": "stdout",
     "output_type": "stream",
     "text": [
      "Modelar: (9958, 53) Estimar: (1104, 52)\n"
     ]
    }
   ],
   "source": [
    "modelar = pd.read_csv('Modelar_UH2019.txt', sep=\"|\")\n",
    "estimar = pd.read_csv('Estimar_UH2019.txt', sep=\"|\")\n",
    "\n",
    "print('Modelar:', modelar.shape, 'Estimar:', estimar.shape)"
   ]
  },
  {
   "cell_type": "code",
   "execution_count": 3,
   "metadata": {},
   "outputs": [
    {
     "data": {
      "text/html": [
       "<div>\n",
       "<style scoped>\n",
       "    .dataframe tbody tr th:only-of-type {\n",
       "        vertical-align: middle;\n",
       "    }\n",
       "\n",
       "    .dataframe tbody tr th {\n",
       "        vertical-align: top;\n",
       "    }\n",
       "\n",
       "    .dataframe thead th {\n",
       "        text-align: right;\n",
       "    }\n",
       "</style>\n",
       "<table border=\"1\" class=\"dataframe\">\n",
       "  <thead>\n",
       "    <tr style=\"text-align: right;\">\n",
       "      <th></th>\n",
       "      <th>HY_id</th>\n",
       "      <th>HY_cod_postal</th>\n",
       "      <th>HY_provincia</th>\n",
       "      <th>HY_descripcion</th>\n",
       "      <th>HY_distribucion</th>\n",
       "      <th>HY_tipo</th>\n",
       "      <th>HY_antiguedad</th>\n",
       "      <th>HY_metros_utiles</th>\n",
       "      <th>HY_metros_totales</th>\n",
       "      <th>HY_num_banos</th>\n",
       "      <th>...</th>\n",
       "      <th>IDEA_unitprice_rent_residential</th>\n",
       "      <th>IDEA_price_rent_residential</th>\n",
       "      <th>IDEA_stock_rent_residential</th>\n",
       "      <th>IDEA_demand_rent_residential</th>\n",
       "      <th>GA_page_views</th>\n",
       "      <th>GA_mean_bounce</th>\n",
       "      <th>GA_exit_rate</th>\n",
       "      <th>GA_quincena_ini</th>\n",
       "      <th>GA_quincena_ult</th>\n",
       "      <th>TARGET</th>\n",
       "    </tr>\n",
       "  </thead>\n",
       "  <tbody>\n",
       "    <tr>\n",
       "      <th>0</th>\n",
       "      <td>6028499</td>\n",
       "      <td>18151</td>\n",
       "      <td>Granada</td>\n",
       "      <td>Plaza de Garaje ubicada en la planta sótano de...</td>\n",
       "      <td>NaN</td>\n",
       "      <td>Garaje</td>\n",
       "      <td>NaN</td>\n",
       "      <td>NaN</td>\n",
       "      <td>35.00</td>\n",
       "      <td>0</td>\n",
       "      <td>...</td>\n",
       "      <td>5.09</td>\n",
       "      <td>626.38</td>\n",
       "      <td>237.0</td>\n",
       "      <td>51.01</td>\n",
       "      <td>71</td>\n",
       "      <td>7.14</td>\n",
       "      <td>10.65</td>\n",
       "      <td>2</td>\n",
       "      <td>46</td>\n",
       "      <td>32.16</td>\n",
       "    </tr>\n",
       "    <tr>\n",
       "      <th>1</th>\n",
       "      <td>6028500</td>\n",
       "      <td>29915</td>\n",
       "      <td>Málaga</td>\n",
       "      <td>NaN</td>\n",
       "      <td>NaN</td>\n",
       "      <td>Casa de pueblo</td>\n",
       "      <td>NaN</td>\n",
       "      <td>NaN</td>\n",
       "      <td>151.98</td>\n",
       "      <td>2</td>\n",
       "      <td>...</td>\n",
       "      <td>4.08</td>\n",
       "      <td>700.00</td>\n",
       "      <td>6.0</td>\n",
       "      <td>50.69</td>\n",
       "      <td>684</td>\n",
       "      <td>16.36</td>\n",
       "      <td>5.25</td>\n",
       "      <td>1</td>\n",
       "      <td>47</td>\n",
       "      <td>30.71</td>\n",
       "    </tr>\n",
       "    <tr>\n",
       "      <th>2</th>\n",
       "      <td>6028502</td>\n",
       "      <td>3740</td>\n",
       "      <td>Alicante</td>\n",
       "      <td>El inmueble(piso) se encuentra situado en el d...</td>\n",
       "      <td>VIVIENDA-PISO</td>\n",
       "      <td>Piso</td>\n",
       "      <td>2008.0</td>\n",
       "      <td>92.58</td>\n",
       "      <td>102.78</td>\n",
       "      <td>1</td>\n",
       "      <td>...</td>\n",
       "      <td>4.43</td>\n",
       "      <td>525.00</td>\n",
       "      <td>15.0</td>\n",
       "      <td>51.82</td>\n",
       "      <td>651</td>\n",
       "      <td>15.12</td>\n",
       "      <td>11.21</td>\n",
       "      <td>1</td>\n",
       "      <td>47</td>\n",
       "      <td>63.48</td>\n",
       "    </tr>\n",
       "    <tr>\n",
       "      <th>3</th>\n",
       "      <td>6028512</td>\n",
       "      <td>30592</td>\n",
       "      <td>Murcia</td>\n",
       "      <td>Plaza de garaje situada en la planta semisótan...</td>\n",
       "      <td>NaN</td>\n",
       "      <td>Garaje</td>\n",
       "      <td>NaN</td>\n",
       "      <td>11.81</td>\n",
       "      <td>12.46</td>\n",
       "      <td>0</td>\n",
       "      <td>...</td>\n",
       "      <td>5.03</td>\n",
       "      <td>863.17</td>\n",
       "      <td>168.0</td>\n",
       "      <td>50.74</td>\n",
       "      <td>92</td>\n",
       "      <td>15.82</td>\n",
       "      <td>14.55</td>\n",
       "      <td>2</td>\n",
       "      <td>47</td>\n",
       "      <td>108.27</td>\n",
       "    </tr>\n",
       "    <tr>\n",
       "      <th>4</th>\n",
       "      <td>6028513</td>\n",
       "      <td>30592</td>\n",
       "      <td>Murcia</td>\n",
       "      <td>Plaza de garaje situada en la planta semisótan...</td>\n",
       "      <td>NaN</td>\n",
       "      <td>Garaje</td>\n",
       "      <td>NaN</td>\n",
       "      <td>14.29</td>\n",
       "      <td>15.43</td>\n",
       "      <td>0</td>\n",
       "      <td>...</td>\n",
       "      <td>5.03</td>\n",
       "      <td>863.17</td>\n",
       "      <td>168.0</td>\n",
       "      <td>50.74</td>\n",
       "      <td>3</td>\n",
       "      <td>0.00</td>\n",
       "      <td>0.00</td>\n",
       "      <td>2</td>\n",
       "      <td>39</td>\n",
       "      <td>7.50</td>\n",
       "    </tr>\n",
       "  </tbody>\n",
       "</table>\n",
       "<p>5 rows × 53 columns</p>\n",
       "</div>"
      ],
      "text/plain": [
       "     HY_id  HY_cod_postal HY_provincia  \\\n",
       "0  6028499          18151      Granada   \n",
       "1  6028500          29915       Málaga   \n",
       "2  6028502           3740     Alicante   \n",
       "3  6028512          30592       Murcia   \n",
       "4  6028513          30592       Murcia   \n",
       "\n",
       "                                      HY_descripcion HY_distribucion  \\\n",
       "0  Plaza de Garaje ubicada en la planta sótano de...             NaN   \n",
       "1                                                NaN             NaN   \n",
       "2  El inmueble(piso) se encuentra situado en el d...   VIVIENDA-PISO   \n",
       "3  Plaza de garaje situada en la planta semisótan...             NaN   \n",
       "4  Plaza de garaje situada en la planta semisótan...             NaN   \n",
       "\n",
       "          HY_tipo  HY_antiguedad  HY_metros_utiles  HY_metros_totales  \\\n",
       "0          Garaje            NaN               NaN              35.00   \n",
       "1  Casa de pueblo            NaN               NaN             151.98   \n",
       "2            Piso         2008.0             92.58             102.78   \n",
       "3          Garaje            NaN             11.81              12.46   \n",
       "4          Garaje            NaN             14.29              15.43   \n",
       "\n",
       "   HY_num_banos   ...   IDEA_unitprice_rent_residential  \\\n",
       "0             0   ...                              5.09   \n",
       "1             2   ...                              4.08   \n",
       "2             1   ...                              4.43   \n",
       "3             0   ...                              5.03   \n",
       "4             0   ...                              5.03   \n",
       "\n",
       "   IDEA_price_rent_residential  IDEA_stock_rent_residential  \\\n",
       "0                       626.38                        237.0   \n",
       "1                       700.00                          6.0   \n",
       "2                       525.00                         15.0   \n",
       "3                       863.17                        168.0   \n",
       "4                       863.17                        168.0   \n",
       "\n",
       "   IDEA_demand_rent_residential  GA_page_views  GA_mean_bounce  GA_exit_rate  \\\n",
       "0                         51.01             71            7.14         10.65   \n",
       "1                         50.69            684           16.36          5.25   \n",
       "2                         51.82            651           15.12         11.21   \n",
       "3                         50.74             92           15.82         14.55   \n",
       "4                         50.74              3            0.00          0.00   \n",
       "\n",
       "   GA_quincena_ini  GA_quincena_ult  TARGET  \n",
       "0                2               46   32.16  \n",
       "1                1               47   30.71  \n",
       "2                1               47   63.48  \n",
       "3                2               47  108.27  \n",
       "4                2               39    7.50  \n",
       "\n",
       "[5 rows x 53 columns]"
      ]
     },
     "execution_count": 3,
     "metadata": {},
     "output_type": "execute_result"
    }
   ],
   "source": [
    "modelar.head()"
   ]
  },
  {
   "cell_type": "code",
   "execution_count": 4,
   "metadata": {},
   "outputs": [
    {
     "name": "stdout",
     "output_type": "stream",
     "text": [
      "TARGET\n"
     ]
    }
   ],
   "source": [
    "for i in modelar.columns:\n",
    "    a=True\n",
    "    if i not in estimar.columns:\n",
    "        a=False\n",
    "        print(i)\n",
    "        break"
   ]
  },
  {
   "cell_type": "code",
   "execution_count": 5,
   "metadata": {},
   "outputs": [
    {
     "name": "stdout",
     "output_type": "stream",
     "text": [
      "HY_id                                 0\n",
      "HY_cod_postal                         0\n",
      "HY_provincia                         42\n",
      "HY_descripcion                     3942\n",
      "HY_distribucion                    6745\n",
      "HY_tipo                               0\n",
      "HY_antiguedad                      5484\n",
      "HY_metros_utiles                   2886\n",
      "HY_metros_totales                    34\n",
      "HY_num_banos                          0\n",
      "HY_cert_energ                      8300\n",
      "HY_num_terrazas                       0\n",
      "HY_ascensor                           0\n",
      "HY_trastero                           0\n",
      "HY_num_garajes                        0\n",
      "HY_precio                             0\n",
      "HY_precio_anterior                 3158\n",
      "IDEA_area                          2631\n",
      "IDEA_poblacion                     2635\n",
      "IDEA_densidad                      2635\n",
      "IDEA_pc_1960                       2710\n",
      "IDEA_pc_1960_69                    2710\n",
      "IDEA_pc_1970_79                    2710\n",
      "IDEA_pc_1980_89                    2710\n",
      "IDEA_pc_1990_99                    2710\n",
      "IDEA_pc_2000_10                    2710\n",
      "IDEA_pc_comercio                   2710\n",
      "IDEA_pc_industria                  2710\n",
      "IDEA_pc_oficina                    2710\n",
      "IDEA_pc_otros                      2710\n",
      "IDEA_pc_residencial                2710\n",
      "IDEA_pc_trast_parking              2710\n",
      "IDEA_ind_tienda                    2717\n",
      "IDEA_ind_turismo                   2717\n",
      "IDEA_ind_alimentacion              2717\n",
      "IDEA_ind_riqueza                   2631\n",
      "IDEA_rent_alquiler                 3062\n",
      "IDEA_ind_elasticidad               5106\n",
      "IDEA_ind_liquidez                  5106\n",
      "IDEA_unitprice_sale_residential    2635\n",
      "IDEA_price_sale_residential        2635\n",
      "IDEA_stock_sale_residential        2635\n",
      "IDEA_demand_sale_residential       2635\n",
      "IDEA_unitprice_rent_residential    2998\n",
      "IDEA_price_rent_residential        2998\n",
      "IDEA_stock_rent_residential        2998\n",
      "IDEA_demand_rent_residential       2635\n",
      "GA_page_views                         0\n",
      "GA_mean_bounce                        0\n",
      "GA_exit_rate                          0\n",
      "GA_quincena_ini                       0\n",
      "GA_quincena_ult                       0\n",
      "TARGET                                0\n",
      "dtype: int64\n"
     ]
    }
   ],
   "source": [
    "missing_val_count=modelar.isnull().sum()\n",
    "\n",
    "print(missing_val_count)"
   ]
  },
  {
   "cell_type": "code",
   "execution_count": 6,
   "metadata": {},
   "outputs": [
    {
     "name": "stderr",
     "output_type": "stream",
     "text": [
      "C:\\Users\\ruttamchandani\\AppData\\Local\\Continuum\\anaconda3\\lib\\site-packages\\scipy\\stats\\stats.py:1713: FutureWarning: Using a non-tuple sequence for multidimensional indexing is deprecated; use `arr[tuple(seq)]` instead of `arr[seq]`. In the future this will be interpreted as an array index, `arr[np.array(seq)]`, which will result either in an error or a different result.\n",
      "  return np.add.reduce(sorted[indexer] * weights, axis=axis) / sumval\n"
     ]
    },
    {
     "data": {
      "image/png": "[encoded data removed]",
      "text/plain": [
       "<Figure size 432x288 with 1 Axes>"
      ]
     },
     "metadata": {
      "needs_background": "light"
     },
     "output_type": "display_data"
    }
   ],
   "source": [
    "sns.distplot(modelar.TARGET);"
   ]
  },
  {
   "cell_type": "code",
   "execution_count": 7,
   "metadata": {},
   "outputs": [
    {
     "data": {
      "text/plain": [
       "count    9958.000000\n",
       "mean       74.155855\n",
       "std        89.738992\n",
       "min         0.000000\n",
       "25%        28.655000\n",
       "50%        56.275000\n",
       "75%        90.507500\n",
       "max      1770.000000\n",
       "Name: TARGET, dtype: float64"
      ]
     },
     "execution_count": 7,
     "metadata": {},
     "output_type": "execute_result"
    }
   ],
   "source": [
    "modelar.TARGET.describe()"
   ]
  },
  {
   "cell_type": "markdown",
   "metadata": {},
   "source": [
    "# Testing: Mutual information vs. correlation:"
   ]
  },
  {
   "cell_type": "code",
   "execution_count": 8,
   "metadata": {
    "scrolled": true
   },
   "outputs": [
    {
     "data": {
      "text/html": [
       "<div>\n",
       "<style scoped>\n",
       "    .dataframe tbody tr th:only-of-type {\n",
       "        vertical-align: middle;\n",
       "    }\n",
       "\n",
       "    .dataframe tbody tr th {\n",
       "        vertical-align: top;\n",
       "    }\n",
       "\n",
       "    .dataframe thead th {\n",
       "        text-align: right;\n",
       "    }\n",
       "</style>\n",
       "<table border=\"1\" class=\"dataframe\">\n",
       "  <thead>\n",
       "    <tr style=\"text-align: right;\">\n",
       "      <th></th>\n",
       "      <th>col1</th>\n",
       "      <th>col2</th>\n",
       "      <th>Target</th>\n",
       "    </tr>\n",
       "  </thead>\n",
       "  <tbody>\n",
       "    <tr>\n",
       "      <th>0</th>\n",
       "      <td>1</td>\n",
       "      <td>0</td>\n",
       "      <td>1</td>\n",
       "    </tr>\n",
       "    <tr>\n",
       "      <th>1</th>\n",
       "      <td>0</td>\n",
       "      <td>0</td>\n",
       "      <td>1</td>\n",
       "    </tr>\n",
       "    <tr>\n",
       "      <th>2</th>\n",
       "      <td>1</td>\n",
       "      <td>0</td>\n",
       "      <td>1</td>\n",
       "    </tr>\n",
       "    <tr>\n",
       "      <th>3</th>\n",
       "      <td>0</td>\n",
       "      <td>0</td>\n",
       "      <td>1</td>\n",
       "    </tr>\n",
       "    <tr>\n",
       "      <th>4</th>\n",
       "      <td>1</td>\n",
       "      <td>1</td>\n",
       "      <td>0</td>\n",
       "    </tr>\n",
       "    <tr>\n",
       "      <th>5</th>\n",
       "      <td>0</td>\n",
       "      <td>1</td>\n",
       "      <td>0</td>\n",
       "    </tr>\n",
       "    <tr>\n",
       "      <th>6</th>\n",
       "      <td>1</td>\n",
       "      <td>1</td>\n",
       "      <td>0</td>\n",
       "    </tr>\n",
       "    <tr>\n",
       "      <th>7</th>\n",
       "      <td>0</td>\n",
       "      <td>1</td>\n",
       "      <td>0</td>\n",
       "    </tr>\n",
       "    <tr>\n",
       "      <th>8</th>\n",
       "      <td>1</td>\n",
       "      <td>1</td>\n",
       "      <td>0</td>\n",
       "    </tr>\n",
       "  </tbody>\n",
       "</table>\n",
       "</div>"
      ],
      "text/plain": [
       "   col1  col2  Target\n",
       "0     1     0       1\n",
       "1     0     0       1\n",
       "2     1     0       1\n",
       "3     0     0       1\n",
       "4     1     1       0\n",
       "5     0     1       0\n",
       "6     1     1       0\n",
       "7     0     1       0\n",
       "8     1     1       0"
      ]
     },
     "execution_count": 8,
     "metadata": {},
     "output_type": "execute_result"
    }
   ],
   "source": [
    "d = {'col1': [1,0,1,0,1,0,1,0,1], 'col2': [0,0,0,0,1,1,1,1,1],'Target': [1,1,1,1,0,0,0,0,0]}\n",
    "df = pd.DataFrame(data=d)\n",
    "df"
   ]
  },
  {
   "cell_type": "code",
   "execution_count": 80,
   "metadata": {},
   "outputs": [],
   "source": [
    "import numpy as np\n",
    "\n",
    "#Mutual information definition as seen in Info. theory\n",
    "def MI(X,Y,bins):\n",
    "   p_XY = np.histogram2d(X,Y,bins)[0]\n",
    "   p_X = np.histogram(X,bins)[0]\n",
    "   p_Y = np.histogram(Y,bins)[0]\n",
    "\n",
    "   H_X = entropy(p_X)\n",
    "   H_Y = entropy(p_Y)\n",
    "   H_XY = entropy(p_XY)\n",
    "\n",
    "   MI = H_X + H_Y - H_XY\n",
    "   return MI\n",
    "\n",
    "#Shannon's entropy definition:\n",
    "def entropy(c):\n",
    "    c_normalized = c / float(np.sum(c))\n",
    "    c_normalized = c_normalized[np.nonzero(c_normalized)]\n",
    "    H = -sum(c_normalized* np.log2(c_normalized))  \n",
    "    return H\n",
    "\n",
    "def MI_matrix(A,bins):\n",
    "    try: \n",
    "        A=A.values\n",
    "        print(A)\n",
    "    except:\n",
    "        A=A\n",
    "    n=A.shape[1]\n",
    "    matMI = np.zeros((n, n))\n",
    "    for ix in np.arange(n):\n",
    "        for jx in np.arange(ix+1,n):\n",
    "            matMI[ix,jx] = MI(A[:,ix], A[:,jx], bins)\n",
    "    cmap = sns.diverging_palette(255, 220, as_cmap=True)\n",
    "    sns.heatmap(matMI.transpose(), cmap=cmap, center=0,\n",
    "                square=True, linewidths=.5, cbar_kws={\"shrink\": .5})\n",
    "    return matMI\n",
    "\n",
    "#Test. Be careful with unbalanced classes. \n",
    "A = np.array([[ 1,  0,  1, 1, 0  ],\n",
    "              [ 1,  1, 0, 1 , 0 ],\n",
    "              [ 0,  1,  1, 0, 1 ],\n",
    "              [0,  1,  1, 0, 1 ],\n",
    "             [0,  2,  5, 0, 3 ]])"
   ]
  },
  {
   "cell_type": "code",
   "execution_count": 52,
   "metadata": {},
   "outputs": [
    {
     "data": {
      "text/html": [
       "<div>\n",
       "<style scoped>\n",
       "    .dataframe tbody tr th:only-of-type {\n",
       "        vertical-align: middle;\n",
       "    }\n",
       "\n",
       "    .dataframe tbody tr th {\n",
       "        vertical-align: top;\n",
       "    }\n",
       "\n",
       "    .dataframe thead th {\n",
       "        text-align: right;\n",
       "    }\n",
       "</style>\n",
       "<table border=\"1\" class=\"dataframe\">\n",
       "  <thead>\n",
       "    <tr style=\"text-align: right;\">\n",
       "      <th></th>\n",
       "      <th>0</th>\n",
       "      <th>1</th>\n",
       "      <th>2</th>\n",
       "      <th>3</th>\n",
       "      <th>4</th>\n",
       "    </tr>\n",
       "  </thead>\n",
       "  <tbody>\n",
       "    <tr>\n",
       "      <th>0</th>\n",
       "      <td>1.000000</td>\n",
       "      <td>-0.645497</td>\n",
       "      <td>-0.515122</td>\n",
       "      <td>1.000000</td>\n",
       "      <td>-0.745356</td>\n",
       "    </tr>\n",
       "    <tr>\n",
       "      <th>1</th>\n",
       "      <td>-0.645497</td>\n",
       "      <td>1.000000</td>\n",
       "      <td>0.725476</td>\n",
       "      <td>-0.645497</td>\n",
       "      <td>0.866025</td>\n",
       "    </tr>\n",
       "    <tr>\n",
       "      <th>2</th>\n",
       "      <td>-0.515122</td>\n",
       "      <td>0.725476</td>\n",
       "      <td>1.000000</td>\n",
       "      <td>-0.515122</td>\n",
       "      <td>0.942421</td>\n",
       "    </tr>\n",
       "    <tr>\n",
       "      <th>3</th>\n",
       "      <td>1.000000</td>\n",
       "      <td>-0.645497</td>\n",
       "      <td>-0.515122</td>\n",
       "      <td>1.000000</td>\n",
       "      <td>-0.745356</td>\n",
       "    </tr>\n",
       "    <tr>\n",
       "      <th>4</th>\n",
       "      <td>-0.745356</td>\n",
       "      <td>0.866025</td>\n",
       "      <td>0.942421</td>\n",
       "      <td>-0.745356</td>\n",
       "      <td>1.000000</td>\n",
       "    </tr>\n",
       "  </tbody>\n",
       "</table>\n",
       "</div>"
      ],
      "text/plain": [
       "          0         1         2         3         4\n",
       "0  1.000000 -0.645497 -0.515122  1.000000 -0.745356\n",
       "1 -0.645497  1.000000  0.725476 -0.645497  0.866025\n",
       "2 -0.515122  0.725476  1.000000 -0.515122  0.942421\n",
       "3  1.000000 -0.645497 -0.515122  1.000000 -0.745356\n",
       "4 -0.745356  0.866025  0.942421 -0.745356  1.000000"
      ]
     },
     "execution_count": 52,
     "metadata": {},
     "output_type": "execute_result"
    }
   ],
   "source": [
    "A_df=pd.DataFrame(A)\n",
    "A_df.corr()"
   ]
  },
  {
   "cell_type": "code",
   "execution_count": 53,
   "metadata": {},
   "outputs": [
    {
     "data": {
      "text/html": [
       "<div>\n",
       "<style scoped>\n",
       "    .dataframe tbody tr th:only-of-type {\n",
       "        vertical-align: middle;\n",
       "    }\n",
       "\n",
       "    .dataframe tbody tr th {\n",
       "        vertical-align: top;\n",
       "    }\n",
       "\n",
       "    .dataframe thead th {\n",
       "        text-align: right;\n",
       "    }\n",
       "</style>\n",
       "<table border=\"1\" class=\"dataframe\">\n",
       "  <thead>\n",
       "    <tr style=\"text-align: right;\">\n",
       "      <th></th>\n",
       "      <th>0</th>\n",
       "      <th>1</th>\n",
       "      <th>2</th>\n",
       "      <th>3</th>\n",
       "      <th>4</th>\n",
       "    </tr>\n",
       "  </thead>\n",
       "  <tbody>\n",
       "    <tr>\n",
       "      <th>0</th>\n",
       "      <td>1.000000</td>\n",
       "      <td>-0.645497</td>\n",
       "      <td>-0.515122</td>\n",
       "      <td>1.000000</td>\n",
       "      <td>-0.745356</td>\n",
       "    </tr>\n",
       "    <tr>\n",
       "      <th>1</th>\n",
       "      <td>-0.645497</td>\n",
       "      <td>1.000000</td>\n",
       "      <td>0.725476</td>\n",
       "      <td>-0.645497</td>\n",
       "      <td>0.866025</td>\n",
       "    </tr>\n",
       "    <tr>\n",
       "      <th>2</th>\n",
       "      <td>-0.515122</td>\n",
       "      <td>0.725476</td>\n",
       "      <td>1.000000</td>\n",
       "      <td>-0.515122</td>\n",
       "      <td>0.942421</td>\n",
       "    </tr>\n",
       "    <tr>\n",
       "      <th>3</th>\n",
       "      <td>1.000000</td>\n",
       "      <td>-0.645497</td>\n",
       "      <td>-0.515122</td>\n",
       "      <td>1.000000</td>\n",
       "      <td>-0.745356</td>\n",
       "    </tr>\n",
       "    <tr>\n",
       "      <th>4</th>\n",
       "      <td>-0.745356</td>\n",
       "      <td>0.866025</td>\n",
       "      <td>0.942421</td>\n",
       "      <td>-0.745356</td>\n",
       "      <td>1.000000</td>\n",
       "    </tr>\n",
       "  </tbody>\n",
       "</table>\n",
       "</div>"
      ],
      "text/plain": [
       "          0         1         2         3         4\n",
       "0  1.000000 -0.645497 -0.515122  1.000000 -0.745356\n",
       "1 -0.645497  1.000000  0.725476 -0.645497  0.866025\n",
       "2 -0.515122  0.725476  1.000000 -0.515122  0.942421\n",
       "3  1.000000 -0.645497 -0.515122  1.000000 -0.745356\n",
       "4 -0.745356  0.866025  0.942421 -0.745356  1.000000"
      ]
     },
     "execution_count": 53,
     "metadata": {},
     "output_type": "execute_result"
    },
    {
     "data": {
      "image/png": "[encoded data removed]",
      "text/plain": [
       "<Figure size 432x288 with 2 Axes>"
      ]
     },
     "metadata": {
      "needs_background": "light"
     },
     "output_type": "display_data"
    }
   ],
   "source": [
    "def Corr_Matrix(dataframe):\n",
    "    a=dataframe.corr()\n",
    "    # Generate a mask for the upper triangle\n",
    "    mask = np.zeros_like(a, dtype=np.bool)\n",
    "    mask[np.triu_indices_from(mask)] = True\n",
    "\n",
    "    # Generate a custom diverging colormap\n",
    "    cmap = sns.diverging_palette(220, 10, as_cmap=True)\n",
    "\n",
    "    sns.heatmap(a, mask=mask, cmap=cmap, vmax=.3, center=0,\n",
    "                square=True, linewidths=.5, cbar_kws={\"shrink\": .5})\n",
    "    return a\n",
    "Corr_Matrix(A_df)"
   ]
  },
  {
   "cell_type": "code",
   "execution_count": 71,
   "metadata": {},
   "outputs": [
    {
     "data": {
      "text/plain": [
       "array([[0.        , 0.41997309, 0.41997309, 0.97095059, 0.97095059],\n",
       "       [0.        , 0.        , 0.81997309, 0.41997309, 0.97095059],\n",
       "       [0.        , 0.        , 0.        , 0.41997309, 0.97095059],\n",
       "       [0.        , 0.        , 0.        , 0.        , 0.97095059],\n",
       "       [0.        , 0.        , 0.        , 0.        , 0.        ]])"
      ]
     },
     "execution_count": 71,
     "metadata": {},
     "output_type": "execute_result"
    },
    {
     "data": {
      "image/png": "[encoded data removed]",
      "text/plain": [
       "<Figure size 432x288 with 2 Axes>"
      ]
     },
     "metadata": {
      "needs_background": "light"
     },
     "output_type": "display_data"
    }
   ],
   "source": [
    "MI_matrix(A,bins=10)"
   ]
  },
  {
   "cell_type": "code",
   "execution_count": 92,
   "metadata": {},
   "outputs": [
    {
     "data": {
      "text/html": [
       "<div>\n",
       "<style scoped>\n",
       "    .dataframe tbody tr th:only-of-type {\n",
       "        vertical-align: middle;\n",
       "    }\n",
       "\n",
       "    .dataframe tbody tr th {\n",
       "        vertical-align: top;\n",
       "    }\n",
       "\n",
       "    .dataframe thead th {\n",
       "        text-align: right;\n",
       "    }\n",
       "</style>\n",
       "<table border=\"1\" class=\"dataframe\">\n",
       "  <thead>\n",
       "    <tr style=\"text-align: right;\">\n",
       "      <th></th>\n",
       "      <th>HY_num_banos</th>\n",
       "      <th>TARGET</th>\n",
       "    </tr>\n",
       "  </thead>\n",
       "  <tbody>\n",
       "    <tr>\n",
       "      <th>0</th>\n",
       "      <td>0</td>\n",
       "      <td>32.16</td>\n",
       "    </tr>\n",
       "    <tr>\n",
       "      <th>1</th>\n",
       "      <td>2</td>\n",
       "      <td>30.71</td>\n",
       "    </tr>\n",
       "    <tr>\n",
       "      <th>2</th>\n",
       "      <td>1</td>\n",
       "      <td>63.48</td>\n",
       "    </tr>\n",
       "    <tr>\n",
       "      <th>3</th>\n",
       "      <td>0</td>\n",
       "      <td>108.27</td>\n",
       "    </tr>\n",
       "    <tr>\n",
       "      <th>4</th>\n",
       "      <td>0</td>\n",
       "      <td>7.50</td>\n",
       "    </tr>\n",
       "  </tbody>\n",
       "</table>\n",
       "</div>"
      ],
      "text/plain": [
       "   HY_num_banos  TARGET\n",
       "0             0   32.16\n",
       "1             2   30.71\n",
       "2             1   63.48\n",
       "3             0  108.27\n",
       "4             0    7.50"
      ]
     },
     "execution_count": 92,
     "metadata": {},
     "output_type": "execute_result"
    }
   ],
   "source": [
    "test=modelar[['HY_num_banos','TARGET']]\n",
    "test.head()"
   ]
  },
  {
   "cell_type": "code",
   "execution_count": 91,
   "metadata": {},
   "outputs": [
    {
     "data": {
      "text/plain": [
       "array([0.05190987, 7.54156612])"
      ]
     },
     "execution_count": 91,
     "metadata": {},
     "output_type": "execute_result"
    }
   ],
   "source": [
    "from sklearn import feature_selection as fss\n",
    "\n",
    "fss.mutual_info_regression(test,test.TARGET)\n",
    "\n",
    "\n"
   ]
  },
  {
   "cell_type": "code",
   "execution_count": null,
   "metadata": {},
   "outputs": [],
   "source": []
  }
 ],
 "metadata": {
  "kernelspec": {
   "display_name": "Python 3",
   "language": "python",
   "name": "python3"
  },
  "language_info": {
   "codemirror_mode": {
    "name": "ipython",
    "version": 3
   },
   "file_extension": ".py",
   "mimetype": "text/x-python",
   "name": "python",
   "nbconvert_exporter": "python",
   "pygments_lexer": "ipython3",
   "version": "3.7.1"
  }
 },
 "nbformat": 4,
 "nbformat_minor": 2
}
