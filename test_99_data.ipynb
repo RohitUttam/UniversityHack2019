{
 "cells": [
  {
   "cell_type": "code",
   "execution_count": 38,
   "metadata": {
    "collapsed": false
   },
   "outputs": [],
   "source": [
    "import pandas as pd\n",
    "import xgboost as xgb\n",
    "from sklearn.model_selection  import train_test_split\n",
    "from sklearn.metrics import median_absolute_error"
   ]
  },
  {
   "cell_type": "code",
   "execution_count": 55,
   "metadata": {
    "collapsed": true
   },
   "outputs": [],
   "source": [
    "model = xgb.XGBRegressor()\n",
    "model.load_model(fname='./models/neg_mean_squared_error/xgbRegressor_1403_94_datos.model')"
   ]
  },
  {
   "cell_type": "code",
   "execution_count": 56,
   "metadata": {
    "collapsed": true
   },
   "outputs": [],
   "source": [
    "modelar_clean = pd.read_csv('./data/modelar_clean_1403_99.csv')"
   ]
  },
  {
   "cell_type": "code",
   "execution_count": 57,
   "metadata": {
    "collapsed": true
   },
   "outputs": [],
   "source": [
    "y = modelar_clean['TARGET']\n",
    "X = modelar_clean.drop('TARGET', axis = 1)"
   ]
  },
  {
   "cell_type": "code",
   "execution_count": 58,
   "metadata": {
    "collapsed": true
   },
   "outputs": [],
   "source": [
    "num_feat = 10\n",
    "important_feature_names=['GA_page_views',\n",
    " 'GA_exit_rate',\n",
    " 'diff_precio_zona',\n",
    " 'HY_metros_totales',\n",
    " 'HY_precio',\n",
    " 'active_week',\n",
    " 'descr_len',\n",
    " 'Num_anunciosCP',\n",
    " 'GA_mean_bounce',\n",
    " '% Descuento']\n",
    "features_index = [X.columns.get_loc(feature) for feature in important_feature_names[:num_feat]]\n",
    "# X_train_xgb = X_train.iloc[:,features_index]\n",
    "# X_test_xgb = X_test.iloc[:, features_index]"
   ]
  },
  {
   "cell_type": "code",
   "execution_count": 59,
   "metadata": {
    "collapsed": true
   },
   "outputs": [],
   "source": [
    "# ypred = model.predict(X_test_xgb)\n",
    "# ypred[ypred<0]=0"
   ]
  },
  {
   "cell_type": "code",
   "execution_count": 60,
   "metadata": {
    "collapsed": true
   },
   "outputs": [],
   "source": [
    "# X_train, X_test, y_train, y_test = train_test_split(X, y, test_size=0.3, random_state=41)"
   ]
  },
  {
   "cell_type": "code",
   "execution_count": 61,
   "metadata": {
    "collapsed": true
   },
   "outputs": [],
   "source": [
    "kfold = 10"
   ]
  },
  {
   "cell_type": "code",
   "execution_count": 62,
   "metadata": {
    "collapsed": false
   },
   "outputs": [
    {
     "name": "stdout",
     "output_type": "stream",
     "text": [
      "MAE = 20.5541214256\n"
     ]
    }
   ],
   "source": [
    "mae = 0\n",
    "for k in range(kfold):\n",
    "    _, X_test, _, y_test = train_test_split(X, y, test_size=0.3)\n",
    "    X_test_xgb = X_test.iloc[:, features_index]\n",
    "    ypred = model.predict(X_test_xgb)\n",
    "    ypred[ypred<0]=0\n",
    "    mae += median_absolute_error(y_test, ypred)\n",
    "print('MAE =', mae/kfold)"
   ]
  }
 ],
 "metadata": {
  "kernelspec": {
   "display_name": "Python 3",
   "language": "python",
   "name": "python3"
  },
  "language_info": {
   "codemirror_mode": {
    "name": "ipython",
    "version": 3
   },
   "file_extension": ".py",
   "mimetype": "text/x-python",
   "name": "python",
   "nbconvert_exporter": "python",
   "pygments_lexer": "ipython3",
   "version": "3.6.7"
  }
 },
 "nbformat": 4,
 "nbformat_minor": 2
}
